{
 "cells": [
  {
   "cell_type": "code",
   "execution_count": 5,
   "id": "e28a0b1d-9e6e-424f-aef6-63d50ba56862",
   "metadata": {},
   "outputs": [],
   "source": [
    "#!pip install cornac --upgrade\n",
    "import pandas as pd\n",
    "import cornac\n",
    "import os\n",
    "from cornac.eval_methods import RatioSplit\n",
    "from cornac.data import Reader, Dataset\n",
    "from cornac.models import MostPop, MF, PMF, BPR, NeuMF, WMF, HPF, VAECF, NMF, UserKNN,LightGCN\n",
    "from cornac.models import NMF as CornacNMF \n",
    "from cornac.metrics import MAE, MSE, RMSE, Precision, Recall, NDCG, AUC, MAP, FMeasure, MRR\n",
    "import numpy as np\n",
    "import pickle\n",
    "from collections import defaultdict\n",
    "from scipy import stats\n",
    "from numpy.linalg import norm\n",
    "import time\n",
    "\n",
    "from cornac.hyperopt import Discrete, Continuous, GridSearch, RandomSearch\n"
   ]
  },
  {
   "cell_type": "code",
   "execution_count": 6,
   "id": "66ab5765-4552-4083-80a3-bd8bf59ee061",
   "metadata": {},
   "outputs": [
    {
     "name": "stdout",
     "output_type": "stream",
     "text": [
      "rating_threshold = 1.0\n",
      "exclude_unknowns = True\n",
      "---\n",
      "Training data:\n",
      "Number of users = 5417\n",
      "Number of items = 5227\n",
      "Number of ratings = 49434\n",
      "Max rating = 10.0\n",
      "Min rating = 1.0\n",
      "Global mean = 7.8\n",
      "---\n",
      "Test data:\n",
      "Number of users = 5417\n",
      "Number of items = 5227\n",
      "Number of ratings = 14098\n",
      "Number of unknown users = 0\n",
      "Number of unknown items = 0\n",
      "---\n",
      "Validation data:\n",
      "Number of users = 5417\n",
      "Number of items = 5227\n",
      "Number of ratings = 7048\n",
      "---\n",
      "Total users = 5417\n",
      "Total items = 5227\n",
      "Train set size: 49434\n",
      "Validation set size: 7063\n",
      "Test set size: 14125\n"
     ]
    }
   ],
   "source": [
    "df = pd.read_csv('preprocessed_book_ratings.csv')\n",
    "\n",
    "# Rename columns to match Cornac expectations\n",
    "df_cornac = df[['User-ID', 'ISBN', 'Book-Rating']].copy()\n",
    "df_cornac.columns = ['user', 'item', 'rating']\n",
    "df_cornac['rating'] = df_cornac['rating'].astype(np.float32)\n",
    "df_cornac['user'] = df_cornac['user'].astype('object')\n",
    "\n",
    "# Convert to list of tuples for Cornac\n",
    "data = [(str(row['user']), row['item'], row['rating'])  for _, row in df_cornac.iterrows()]\n",
    "# data = list(zip(df_cornac['user'], df_cornac['item'], df_cornac['rating']))\n",
    "dataset = Dataset.from_uir(data)\n",
    "\n",
    "# Create evaluation method with validation split\n",
    "rs = RatioSplit(data=data,\n",
    "                        test_size=0.2,   # 20% for testing\n",
    "                        val_size=0.1,    # 10% for validation\n",
    "                        rating_threshold=1,\n",
    "                        verbose=True,\n",
    "                        seed=123)\n",
    "\n",
    "\n",
    "print(f\"Train set size: {rs.train_size}\")\n",
    "print(f\"Validation set size: {rs.val_size}\")\n",
    "print(f\"Test set size: {rs.test_size}\")"
   ]
  },
  {
   "cell_type": "code",
   "execution_count": 8,
   "id": "52d50969-e23e-4892-abaa-c26947b49beb",
   "metadata": {},
   "outputs": [],
   "source": [
    "\n",
    "#Changing default vals to finetuned recommendations\n",
    "'''\n",
    "Best parameters for UserKNN:\n",
    "{'amplify': 1.3695414455339152, 'k': np.int64(40), 'mean_centered': np.False_, 'similarity': np.str_('cosine')}\n",
    "Successfully completed UserKNN evaluation\n",
    "\n",
    "Best parameters for BPR:\n",
    "{'k': 10, 'lambda_reg': 0.03438348381347186, 'learning_rate': 0.0074259722201483955, 'max_iter': 300}\n",
    "\n",
    "Best parameters for MF:\n",
    "{'k': np.int64(30), 'lambda_reg': 0.00190666813148965, 'learning_rate': 0.009597136051227133, 'max_iter': np.int64(100)}\n",
    "Successfully completed MF evaluation\n",
    "\n",
    "Best parameters for PMF:\n",
    "{'k': np.int64(20), 'lambda_reg': 0.0006908111764347267, 'learning_rate': 0.0022911991489869415, 'max_iter': np.int64(100)}\n",
    "Successfully completed PMF evaluation\n",
    "\n",
    "Best parameters for NMF:\n",
    "{'k': 25, 'lambda_u': 0.038555693363828886, 'lambda_v': 0.047334359075826865, 'learning_rate': 0.008796782420950295, 'max_iter': 100, 'use_bias': False}\n",
    "\n",
    "Best parameters for WMF:\n",
    "{'k': np.int64(70), 'lambda_u': 0.035934810705638136, 'lambda_v': 0.021995075383154462, 'learning_rate': 0.003608981847620878, 'max_iter': np.int64(100)}\n",
    "Successfully completed WMF evaluation\n",
    "\n",
    "Best parameters for HPF:\n",
    "{'k': np.int64(30), 'max_iter': np.int64(150)}\n",
    "\n",
    "best parameters for NeuMF_medium:\n",
    "{'act_fn': np.str_('tanh'), 'batch_size': np.int64(256), 'lr': 0.0015020827412568593, 'num_epochs': np.int64(5), 'num_factors': np.int64(8), 'num_neg': np.int64(3)}\n",
    "Successfully completed NeuMF_medium evaluation\n",
    "\n",
    "Best parameters for VAECF_medium:\n",
    "{'act_fn': np.str_('tanh'), 'batch_size': np.int64(100), 'beta': 1.2800277619120792, 'k': np.int64(10), 'learning_rate': 0.00345566571906583, 'likelihood': np.str_('mult'), 'n_epochs': np.int64(100)}\n",
    "Successfully completed VAECF_medium evaluation\n",
    "\n",
    "\n",
    "'''\n",
    "               \n",
    "models = [\n",
    "    MostPop(),\n",
    "    UserKNN(k=40, similarity='cosine', mean_centered=False, weighting=None, amplify=1.369, num_threads=0, trainable=True, verbose=True, seed=123),\n",
    "    BPR(k=10, max_iter=300, learning_rate=0.007, lambda_reg=0.0343, seed=123),\n",
    "    MF(k=30, max_iter=100, learning_rate=0.01, lambda_reg=0.002, seed=123),\n",
    "    PMF(k=20, max_iter=100, learning_rate=0.002, lambda_reg=0.0006, seed=123),\n",
    "    NMF(k=25, max_iter=100, learning_rate=0.008, lambda_u=0.06, lambda_v=0.0473, lambda_bu=0.02, lambda_bi=0.02, use_bias=False, verbose=True, seed=123),\n",
    "    WMF(k=70, max_iter=100, learning_rate=0.003, lambda_u=0.0359, lambda_v=0.0219, verbose=True, seed=123),\n",
    "    HPF(k=30, seed=123, hierarchical=False, name=\"PF\"),\n",
    "    NeuMF(num_factors=8, layers=[32, 16, 8], act_fn=\"tanh\", num_epochs=5, num_neg=3, batch_size=256, lr=0.0015, seed=123, verbose=True, backend='pytorch'),\n",
    "    VAECF(k=10, autoencoder_structure=[20], act_fn='tanh', likelihood='mult',n_epochs=100, batch_size=100, learning_rate=0.0034, beta=1.28, trainable=True, verbose=False, seed=123, use_gpu=True),\n",
    " \n",
    "  ]\n",
    "\n",
    "\n",
    "metrics = [\n",
    "    MAE(), MSE(), RMSE(), AUC(), MAP(), MRR(),\n",
    "    Precision(k=5), Precision(k=10), Precision(k=20), Precision(k=50),\n",
    "    Recall(k=5), Recall(k=10), Recall(k=20), Recall(k=50),\n",
    "    NDCG(k=5), NDCG(k=10), NDCG(k=20), NDCG(k=50),\n",
    "    FMeasure(k=5), FMeasure(k=10), FMeasure(k=20), FMeasure(k=50)\n",
    "]"
   ]
  },
  {
   "cell_type": "code",
   "execution_count": 9,
   "id": "fb8bf309-8447-4639-8d38-f866418daf3b",
   "metadata": {
    "scrolled": true
   },
   "outputs": [
    {
     "name": "stdout",
     "output_type": "stream",
     "text": [
      "\n",
      "[MostPop] Training started!\n",
      "\n",
      "[MostPop] Evaluation started!\n"
     ]
    },
    {
     "data": {
      "application/vnd.jupyter.widget-view+json": {
       "model_id": "ec19d656a27a4d7bb0f5a7704dbe961b",
       "version_major": 2,
       "version_minor": 0
      },
      "text/plain": [
       "Rating:   0%|          | 0/14098 [00:00<?, ?it/s]"
      ]
     },
     "metadata": {},
     "output_type": "display_data"
    },
    {
     "data": {
      "application/vnd.jupyter.widget-view+json": {
       "model_id": "134ad349f03e41a99e4f0ecdb43bd053",
       "version_major": 2,
       "version_minor": 0
      },
      "text/plain": [
       "Ranking:   0%|          | 0/4577 [00:00<?, ?it/s]"
      ]
     },
     "metadata": {},
     "output_type": "display_data"
    },
    {
     "data": {
      "application/vnd.jupyter.widget-view+json": {
       "model_id": "6da0637073ca4e9da0de0f60fc332c87",
       "version_major": 2,
       "version_minor": 0
      },
      "text/plain": [
       "Rating:   0%|          | 0/7048 [00:00<?, ?it/s]"
      ]
     },
     "metadata": {},
     "output_type": "display_data"
    },
    {
     "data": {
      "application/vnd.jupyter.widget-view+json": {
       "model_id": "837db4a005ad4ad38b20864d60047362",
       "version_major": 2,
       "version_minor": 0
      },
      "text/plain": [
       "Ranking:   0%|          | 0/3440 [00:00<?, ?it/s]"
      ]
     },
     "metadata": {},
     "output_type": "display_data"
    },
    {
     "name": "stdout",
     "output_type": "stream",
     "text": [
      "\n",
      "[UserKNN] Training started!\n"
     ]
    },
    {
     "data": {
      "application/vnd.jupyter.widget-view+json": {
       "model_id": "f44512789ab0471f82e21b98cf37f7ab",
       "version_major": 2,
       "version_minor": 0
      },
      "text/plain": [
       "  0%|          | 0/5417 [00:00<?, ?it/s]"
      ]
     },
     "metadata": {},
     "output_type": "display_data"
    },
    {
     "name": "stdout",
     "output_type": "stream",
     "text": [
      "\n",
      "[UserKNN] Evaluation started!\n"
     ]
    },
    {
     "data": {
      "application/vnd.jupyter.widget-view+json": {
       "model_id": "076be4dd5aa442aca44c2427d4cd69a7",
       "version_major": 2,
       "version_minor": 0
      },
      "text/plain": [
       "Rating:   0%|          | 0/14098 [00:00<?, ?it/s]"
      ]
     },
     "metadata": {},
     "output_type": "display_data"
    },
    {
     "data": {
      "application/vnd.jupyter.widget-view+json": {
       "model_id": "61ab3178f6fc4483b15464f00a2d882b",
       "version_major": 2,
       "version_minor": 0
      },
      "text/plain": [
       "Ranking:   0%|          | 0/4577 [00:00<?, ?it/s]"
      ]
     },
     "metadata": {},
     "output_type": "display_data"
    },
    {
     "data": {
      "application/vnd.jupyter.widget-view+json": {
       "model_id": "60b245a634c54cfdb4a435061e7b0bd9",
       "version_major": 2,
       "version_minor": 0
      },
      "text/plain": [
       "Rating:   0%|          | 0/7048 [00:00<?, ?it/s]"
      ]
     },
     "metadata": {},
     "output_type": "display_data"
    },
    {
     "data": {
      "application/vnd.jupyter.widget-view+json": {
       "model_id": "e3c4ed0f47674c2b96bb2d6cdd9d5f95",
       "version_major": 2,
       "version_minor": 0
      },
      "text/plain": [
       "Ranking:   0%|          | 0/3440 [00:00<?, ?it/s]"
      ]
     },
     "metadata": {},
     "output_type": "display_data"
    },
    {
     "name": "stdout",
     "output_type": "stream",
     "text": [
      "\n",
      "[BPR] Training started!\n",
      "\n",
      "[BPR] Evaluation started!\n"
     ]
    },
    {
     "data": {
      "application/vnd.jupyter.widget-view+json": {
       "model_id": "c3c27913878449b39c5f019f8e385250",
       "version_major": 2,
       "version_minor": 0
      },
      "text/plain": [
       "Rating:   0%|          | 0/14098 [00:00<?, ?it/s]"
      ]
     },
     "metadata": {},
     "output_type": "display_data"
    },
    {
     "data": {
      "application/vnd.jupyter.widget-view+json": {
       "model_id": "361a792c65914ff0b63855e9e59591d7",
       "version_major": 2,
       "version_minor": 0
      },
      "text/plain": [
       "Ranking:   0%|          | 0/4577 [00:00<?, ?it/s]"
      ]
     },
     "metadata": {},
     "output_type": "display_data"
    },
    {
     "data": {
      "application/vnd.jupyter.widget-view+json": {
       "model_id": "287a14233b4e4fee808899e7c9852f3f",
       "version_major": 2,
       "version_minor": 0
      },
      "text/plain": [
       "Rating:   0%|          | 0/7048 [00:00<?, ?it/s]"
      ]
     },
     "metadata": {},
     "output_type": "display_data"
    },
    {
     "data": {
      "application/vnd.jupyter.widget-view+json": {
       "model_id": "16c999317da349bd8146c4d38fb62544",
       "version_major": 2,
       "version_minor": 0
      },
      "text/plain": [
       "Ranking:   0%|          | 0/3440 [00:00<?, ?it/s]"
      ]
     },
     "metadata": {},
     "output_type": "display_data"
    },
    {
     "name": "stdout",
     "output_type": "stream",
     "text": [
      "\n",
      "[MF] Training started!\n",
      "\n",
      "[MF] Evaluation started!\n"
     ]
    },
    {
     "data": {
      "application/vnd.jupyter.widget-view+json": {
       "model_id": "c5833a5ae95d4459a682e64de70b77fa",
       "version_major": 2,
       "version_minor": 0
      },
      "text/plain": [
       "Rating:   0%|          | 0/14098 [00:00<?, ?it/s]"
      ]
     },
     "metadata": {},
     "output_type": "display_data"
    },
    {
     "data": {
      "application/vnd.jupyter.widget-view+json": {
       "model_id": "f697d2652d2a4537a53441b3c20c9d79",
       "version_major": 2,
       "version_minor": 0
      },
      "text/plain": [
       "Ranking:   0%|          | 0/4577 [00:00<?, ?it/s]"
      ]
     },
     "metadata": {},
     "output_type": "display_data"
    },
    {
     "data": {
      "application/vnd.jupyter.widget-view+json": {
       "model_id": "a8e8118135164748be8f173c21976663",
       "version_major": 2,
       "version_minor": 0
      },
      "text/plain": [
       "Rating:   0%|          | 0/7048 [00:00<?, ?it/s]"
      ]
     },
     "metadata": {},
     "output_type": "display_data"
    },
    {
     "data": {
      "application/vnd.jupyter.widget-view+json": {
       "model_id": "1ecf524905314cc69b5822602f314fa4",
       "version_major": 2,
       "version_minor": 0
      },
      "text/plain": [
       "Ranking:   0%|          | 0/3440 [00:00<?, ?it/s]"
      ]
     },
     "metadata": {},
     "output_type": "display_data"
    },
    {
     "name": "stdout",
     "output_type": "stream",
     "text": [
      "\n",
      "[PMF] Training started!\n",
      "\n",
      "[PMF] Evaluation started!\n"
     ]
    },
    {
     "data": {
      "application/vnd.jupyter.widget-view+json": {
       "model_id": "fa645bbab2e04dca8e1ed8c8fecfa862",
       "version_major": 2,
       "version_minor": 0
      },
      "text/plain": [
       "Rating:   0%|          | 0/14098 [00:00<?, ?it/s]"
      ]
     },
     "metadata": {},
     "output_type": "display_data"
    },
    {
     "data": {
      "application/vnd.jupyter.widget-view+json": {
       "model_id": "d67f038b084241b1a22728ea32b89968",
       "version_major": 2,
       "version_minor": 0
      },
      "text/plain": [
       "Ranking:   0%|          | 0/4577 [00:00<?, ?it/s]"
      ]
     },
     "metadata": {},
     "output_type": "display_data"
    },
    {
     "data": {
      "application/vnd.jupyter.widget-view+json": {
       "model_id": "22c5fc293d514617ade605d4982cd52f",
       "version_major": 2,
       "version_minor": 0
      },
      "text/plain": [
       "Rating:   0%|          | 0/7048 [00:00<?, ?it/s]"
      ]
     },
     "metadata": {},
     "output_type": "display_data"
    },
    {
     "data": {
      "application/vnd.jupyter.widget-view+json": {
       "model_id": "e4309669ef38430f8cf382cd4f17e7ef",
       "version_major": 2,
       "version_minor": 0
      },
      "text/plain": [
       "Ranking:   0%|          | 0/3440 [00:00<?, ?it/s]"
      ]
     },
     "metadata": {},
     "output_type": "display_data"
    },
    {
     "name": "stdout",
     "output_type": "stream",
     "text": [
      "\n",
      "[NMF] Training started!\n"
     ]
    },
    {
     "data": {
      "application/vnd.jupyter.widget-view+json": {
       "model_id": "40ec6874e6b647f4ba4e7b1be240125d",
       "version_major": 2,
       "version_minor": 0
      },
      "text/plain": [
       "  0%|          | 0/100 [00:00<?, ?it/s]"
      ]
     },
     "metadata": {},
     "output_type": "display_data"
    },
    {
     "name": "stdout",
     "output_type": "stream",
     "text": [
      "Optimization finished!\n",
      "\n",
      "[NMF] Evaluation started!\n"
     ]
    },
    {
     "data": {
      "application/vnd.jupyter.widget-view+json": {
       "model_id": "24473f2388574599b301f9a7156d27c5",
       "version_major": 2,
       "version_minor": 0
      },
      "text/plain": [
       "Rating:   0%|          | 0/14098 [00:00<?, ?it/s]"
      ]
     },
     "metadata": {},
     "output_type": "display_data"
    },
    {
     "data": {
      "application/vnd.jupyter.widget-view+json": {
       "model_id": "b3067fe196b14a38aa21eb3864730adb",
       "version_major": 2,
       "version_minor": 0
      },
      "text/plain": [
       "Ranking:   0%|          | 0/4577 [00:00<?, ?it/s]"
      ]
     },
     "metadata": {},
     "output_type": "display_data"
    },
    {
     "data": {
      "application/vnd.jupyter.widget-view+json": {
       "model_id": "5d8332d67dc54aeb9853b317e6c15c64",
       "version_major": 2,
       "version_minor": 0
      },
      "text/plain": [
       "Rating:   0%|          | 0/7048 [00:00<?, ?it/s]"
      ]
     },
     "metadata": {},
     "output_type": "display_data"
    },
    {
     "data": {
      "application/vnd.jupyter.widget-view+json": {
       "model_id": "f5c03cfec4f74c178adc15899bb636ac",
       "version_major": 2,
       "version_minor": 0
      },
      "text/plain": [
       "Ranking:   0%|          | 0/3440 [00:00<?, ?it/s]"
      ]
     },
     "metadata": {},
     "output_type": "display_data"
    },
    {
     "name": "stdout",
     "output_type": "stream",
     "text": [
      "\n",
      "[WMF] Training started!\n"
     ]
    },
    {
     "name": "stderr",
     "output_type": "stream",
     "text": [
      "WARNING: All log messages before absl::InitializeLog() is called are written to STDERR\n",
      "E0000 00:00:1746018923.858353   57080 cuda_dnn.cc:8579] Unable to register cuDNN factory: Attempting to register factory for plugin cuDNN when one has already been registered\n",
      "E0000 00:00:1746018923.892579   57080 cuda_blas.cc:1407] Unable to register cuBLAS factory: Attempting to register factory for plugin cuBLAS when one has already been registered\n",
      "W0000 00:00:1746018924.224954   57080 computation_placer.cc:177] computation placer already registered. Please check linkage and avoid linking the same target more than once.\n",
      "W0000 00:00:1746018924.224983   57080 computation_placer.cc:177] computation placer already registered. Please check linkage and avoid linking the same target more than once.\n",
      "W0000 00:00:1746018924.224985   57080 computation_placer.cc:177] computation placer already registered. Please check linkage and avoid linking the same target more than once.\n",
      "W0000 00:00:1746018924.224986   57080 computation_placer.cc:177] computation placer already registered. Please check linkage and avoid linking the same target more than once.\n",
      "I0000 00:00:1746018945.546072   57080 gpu_device.cc:2019] Created device /job:localhost/replica:0/task:0/device:GPU:0 with 13775 MB memory:  -> device: 0, name: Tesla T4, pci bus id: 0000:03:00.0, compute capability: 7.5\n",
      "I0000 00:00:1746018945.548207   57080 gpu_device.cc:2019] Created device /job:localhost/replica:0/task:0/device:GPU:1 with 13775 MB memory:  -> device: 1, name: Tesla T4, pci bus id: 0000:41:00.0, compute capability: 7.5\n",
      "I0000 00:00:1746018945.550111   57080 gpu_device.cc:2019] Created device /job:localhost/replica:0/task:0/device:GPU:2 with 13775 MB memory:  -> device: 2, name: Tesla T4, pci bus id: 0000:81:00.0, compute capability: 7.5\n",
      "WARNING: All log messages before absl::InitializeLog() is called are written to STDERR\n",
      "I0000 00:00:1746018945.560657   57080 mlir_graph_optimization_pass.cc:425] MLIR V1 optimization pass is not enabled\n"
     ]
    },
    {
     "data": {
      "application/vnd.jupyter.widget-view+json": {
       "model_id": "72294f532ecf4920a29f29134162edf2",
       "version_major": 2,
       "version_minor": 0
      },
      "text/plain": [
       "  0%|          | 0/100 [00:00<?, ?it/s]"
      ]
     },
     "metadata": {},
     "output_type": "display_data"
    },
    {
     "name": "stdout",
     "output_type": "stream",
     "text": [
      "Learning completed!\n",
      "\n",
      "[WMF] Evaluation started!\n"
     ]
    },
    {
     "data": {
      "application/vnd.jupyter.widget-view+json": {
       "model_id": "0c3c46c85dc44a0abc559bbaeca3bb3f",
       "version_major": 2,
       "version_minor": 0
      },
      "text/plain": [
       "Rating:   0%|          | 0/14098 [00:00<?, ?it/s]"
      ]
     },
     "metadata": {},
     "output_type": "display_data"
    },
    {
     "data": {
      "application/vnd.jupyter.widget-view+json": {
       "model_id": "d6a9c56d0ea147abbe0035dff294419c",
       "version_major": 2,
       "version_minor": 0
      },
      "text/plain": [
       "Ranking:   0%|          | 0/4577 [00:00<?, ?it/s]"
      ]
     },
     "metadata": {},
     "output_type": "display_data"
    },
    {
     "data": {
      "application/vnd.jupyter.widget-view+json": {
       "model_id": "5de3271fbfc74600b05893e22903b984",
       "version_major": 2,
       "version_minor": 0
      },
      "text/plain": [
       "Rating:   0%|          | 0/7048 [00:00<?, ?it/s]"
      ]
     },
     "metadata": {},
     "output_type": "display_data"
    },
    {
     "data": {
      "application/vnd.jupyter.widget-view+json": {
       "model_id": "bdc289a1718c4e24af95ca71eb8ab189",
       "version_major": 2,
       "version_minor": 0
      },
      "text/plain": [
       "Ranking:   0%|          | 0/3440 [00:00<?, ?it/s]"
      ]
     },
     "metadata": {},
     "output_type": "display_data"
    },
    {
     "name": "stdout",
     "output_type": "stream",
     "text": [
      "\n",
      "[PF] Training started!\n",
      "Learning...\n",
      "Learning completed!\n",
      "\n",
      "[PF] Evaluation started!\n"
     ]
    },
    {
     "data": {
      "application/vnd.jupyter.widget-view+json": {
       "model_id": "56eb840b3cb64ea08e7eabaa0d043508",
       "version_major": 2,
       "version_minor": 0
      },
      "text/plain": [
       "Rating:   0%|          | 0/14098 [00:00<?, ?it/s]"
      ]
     },
     "metadata": {},
     "output_type": "display_data"
    },
    {
     "data": {
      "application/vnd.jupyter.widget-view+json": {
       "model_id": "37c7d154c479477bae2ffa6468422565",
       "version_major": 2,
       "version_minor": 0
      },
      "text/plain": [
       "Ranking:   0%|          | 0/4577 [00:00<?, ?it/s]"
      ]
     },
     "metadata": {},
     "output_type": "display_data"
    },
    {
     "data": {
      "application/vnd.jupyter.widget-view+json": {
       "model_id": "e8d84c7797a3479aab33d457c5f6aabd",
       "version_major": 2,
       "version_minor": 0
      },
      "text/plain": [
       "Rating:   0%|          | 0/7048 [00:00<?, ?it/s]"
      ]
     },
     "metadata": {},
     "output_type": "display_data"
    },
    {
     "data": {
      "application/vnd.jupyter.widget-view+json": {
       "model_id": "f185570577b644b09a5f40cb605c7605",
       "version_major": 2,
       "version_minor": 0
      },
      "text/plain": [
       "Ranking:   0%|          | 0/3440 [00:00<?, ?it/s]"
      ]
     },
     "metadata": {},
     "output_type": "display_data"
    },
    {
     "name": "stdout",
     "output_type": "stream",
     "text": [
      "\n",
      "[NeuMF] Training started!\n"
     ]
    },
    {
     "data": {
      "application/vnd.jupyter.widget-view+json": {
       "model_id": "ba3a4744f5e844ca9b1942d3e32557b0",
       "version_major": 2,
       "version_minor": 0
      },
      "text/plain": [
       "  0%|          | 0/5 [00:00<?, ?it/s]"
      ]
     },
     "metadata": {},
     "output_type": "display_data"
    },
    {
     "name": "stdout",
     "output_type": "stream",
     "text": [
      "\n",
      "[NeuMF] Evaluation started!\n"
     ]
    },
    {
     "data": {
      "application/vnd.jupyter.widget-view+json": {
       "model_id": "20d58a1e2e8e44b3ac5a324143fd42aa",
       "version_major": 2,
       "version_minor": 0
      },
      "text/plain": [
       "Rating:   0%|          | 0/14098 [00:00<?, ?it/s]"
      ]
     },
     "metadata": {},
     "output_type": "display_data"
    },
    {
     "data": {
      "application/vnd.jupyter.widget-view+json": {
       "model_id": "744bf24da00344f892e3a42126c0999e",
       "version_major": 2,
       "version_minor": 0
      },
      "text/plain": [
       "Ranking:   0%|          | 0/4577 [00:00<?, ?it/s]"
      ]
     },
     "metadata": {},
     "output_type": "display_data"
    },
    {
     "data": {
      "application/vnd.jupyter.widget-view+json": {
       "model_id": "e9596631fbbe41ce83c0b57c648a7d03",
       "version_major": 2,
       "version_minor": 0
      },
      "text/plain": [
       "Rating:   0%|          | 0/7048 [00:00<?, ?it/s]"
      ]
     },
     "metadata": {},
     "output_type": "display_data"
    },
    {
     "data": {
      "application/vnd.jupyter.widget-view+json": {
       "model_id": "961ebe01797f446cb3caa9739ee91217",
       "version_major": 2,
       "version_minor": 0
      },
      "text/plain": [
       "Ranking:   0%|          | 0/3440 [00:00<?, ?it/s]"
      ]
     },
     "metadata": {},
     "output_type": "display_data"
    },
    {
     "name": "stdout",
     "output_type": "stream",
     "text": [
      "\n",
      "[VAECF] Training started!\n",
      "\n",
      "[VAECF] Evaluation started!\n"
     ]
    },
    {
     "data": {
      "application/vnd.jupyter.widget-view+json": {
       "model_id": "13a7eb1ee17a49bb93f5d655f4a80ee8",
       "version_major": 2,
       "version_minor": 0
      },
      "text/plain": [
       "Rating:   0%|          | 0/14098 [00:00<?, ?it/s]"
      ]
     },
     "metadata": {},
     "output_type": "display_data"
    },
    {
     "data": {
      "application/vnd.jupyter.widget-view+json": {
       "model_id": "c882fa7d31894832ab0cb70bcfcdedc3",
       "version_major": 2,
       "version_minor": 0
      },
      "text/plain": [
       "Ranking:   0%|          | 0/4577 [00:00<?, ?it/s]"
      ]
     },
     "metadata": {},
     "output_type": "display_data"
    },
    {
     "data": {
      "application/vnd.jupyter.widget-view+json": {
       "model_id": "c2f8a4727e65427b8d4737f5cc323408",
       "version_major": 2,
       "version_minor": 0
      },
      "text/plain": [
       "Rating:   0%|          | 0/7048 [00:00<?, ?it/s]"
      ]
     },
     "metadata": {},
     "output_type": "display_data"
    },
    {
     "data": {
      "application/vnd.jupyter.widget-view+json": {
       "model_id": "8cf37942987e4197a000c9ccedeb226e",
       "version_major": 2,
       "version_minor": 0
      },
      "text/plain": [
       "Ranking:   0%|          | 0/3440 [00:00<?, ?it/s]"
      ]
     },
     "metadata": {},
     "output_type": "display_data"
    },
    {
     "name": "stdout",
     "output_type": "stream",
     "text": [
      "\n",
      "VALIDATION:\n",
      "...\n",
      "        |    MAE |     MSE |   RMSE |    AUC |  F1@10 |  F1@20 |   F1@5 |  F1@50 |    MAP |    MRR | NDCG@10 | NDCG@20 | NDCG@5 | NDCG@50 | Precision@10 | Precision@20 | Precision@5 | Precision@50 | Recall@10 | Recall@20 | Recall@5 | Recall@50 | Time (s)\n",
      "------- + ------ + ------- + ------ + ------ + ------ + ------ + ------ + ------ + ------ + ------ + ------- + ------- + ------ + ------- + ------------ + ------------ + ----------- + ------------ + --------- + --------- + -------- + --------- + --------\n",
      "MostPop | 2.6042 | 10.7763 | 2.7985 | 0.6548 | 0.0079 | 0.0079 | 0.0079 | 0.0069 | 0.0144 | 0.0257 |  0.0156 |  0.0214 | 0.0117 |  0.0323 |       0.0050 |       0.0045 |      0.0059 |       0.0037 |    0.0265 |    0.0456 |   0.0155 |    0.0924 |   6.8630\n",
      "UserKNN | 1.3489 |  3.2279 | 1.4515 | 0.3861 | 0.0006 | 0.0010 | 0.0006 | 0.0010 | 0.0024 | 0.0043 |  0.0012 |  0.0024 | 0.0008 |  0.0044 |       0.0004 |       0.0005 |      0.0005 |       0.0005 |    0.0020 |    0.0064 |   0.0009 |    0.0153 |  34.8491\n",
      "BPR     | 6.6505 | 47.4104 | 6.7106 | 0.7156 | 0.0111 | 0.0098 | 0.0111 | 0.0085 | 0.0189 | 0.0338 |  0.0212 |  0.0273 | 0.0160 |  0.0401 |       0.0071 |       0.0057 |      0.0087 |       0.0045 |    0.0352 |    0.0552 |   0.0203 |    0.1090 |   8.4431\n",
      "MF      | 1.2945 |  2.8499 | 1.3873 | 0.5100 | 0.0011 | 0.0012 | 0.0010 | 0.0012 | 0.0024 | 0.0049 |  0.0018 |  0.0027 | 0.0014 |  0.0044 |       0.0008 |       0.0007 |      0.0009 |       0.0006 |    0.0027 |    0.0060 |   0.0018 |    0.0129 |   8.4650\n",
      "PMF     | 1.5152 |  3.7044 | 1.6187 | 0.5488 | 0.0020 | 0.0018 | 0.0016 | 0.0017 | 0.0038 | 0.0063 |  0.0034 |  0.0045 | 0.0020 |  0.0073 |       0.0013 |       0.0010 |      0.0012 |       0.0009 |    0.0067 |    0.0104 |   0.0028 |    0.0228 |   9.6036\n",
      "NMF     | 1.5201 |  3.6862 | 1.6214 | 0.5356 | 0.0006 | 0.0006 | 0.0003 | 0.0006 | 0.0021 | 0.0034 |  0.0011 |  0.0014 | 0.0006 |  0.0026 |       0.0004 |       0.0003 |      0.0003 |       0.0003 |    0.0017 |    0.0028 |   0.0006 |    0.0081 |   8.4384\n",
      "WMF     | 5.9837 | 40.0509 | 6.0896 | 0.6662 | 0.0183 | 0.0145 | 0.0217 | 0.0100 | 0.0317 | 0.0515 |  0.0388 |  0.0463 | 0.0324 |  0.0575 |       0.0116 |       0.0083 |      0.0162 |       0.0053 |    0.0593 |    0.0852 |   0.0423 |    0.1318 |   9.6085\n",
      "PF      | 6.7832 | 49.1826 | 6.8425 | 0.6503 | 0.0082 | 0.0076 | 0.0091 | 0.0057 | 0.0143 | 0.0249 |  0.0163 |  0.0216 | 0.0130 |  0.0287 |       0.0052 |       0.0043 |      0.0070 |       0.0030 |    0.0267 |    0.0445 |   0.0173 |    0.0739 |   9.7366\n",
      "NeuMF   | 6.7960 | 49.3541 | 6.8542 | 0.7008 | 0.0088 | 0.0081 | 0.0086 | 0.0076 | 0.0163 | 0.0274 |  0.0170 |  0.0223 | 0.0128 |  0.0349 |       0.0056 |       0.0047 |      0.0065 |       0.0040 |    0.0279 |    0.0458 |   0.0166 |    0.0994 |  12.5305\n",
      "VAECF   | 6.7960 | 49.3541 | 6.8542 | 0.7648 | 0.0136 | 0.0124 | 0.0146 | 0.0096 | 0.0233 | 0.0386 |  0.0265 |  0.0344 | 0.0209 |  0.0478 |       0.0087 |       0.0071 |      0.0110 |       0.0051 |    0.0442 |    0.0702 |   0.0289 |    0.1278 |  12.7481\n",
      "\n",
      "TEST:\n",
      "...\n",
      "        |    MAE |     MSE |   RMSE |    AUC |  F1@10 |  F1@20 |   F1@5 |  F1@50 |    MAP |    MRR | NDCG@10 | NDCG@20 | NDCG@5 | NDCG@50 | Precision@10 | Precision@20 | Precision@5 | Precision@50 | Recall@10 | Recall@20 | Recall@5 | Recall@50 | Train (s) | Test (s)\n",
      "------- + ------ + ------- + ------ + ------ + ------ + ------ + ------ + ------ + ------ + ------ + ------- + ------- + ------ + ------- + ------------ + ------------ + ----------- + ------------ + --------- + --------- + -------- + --------- + --------- + --------\n",
      "MostPop | 2.6249 | 10.9153 | 2.9120 | 0.6617 | 0.0112 | 0.0113 | 0.0099 | 0.0098 | 0.0158 | 0.0373 |  0.0189 |  0.0252 | 0.0145 |  0.0361 |       0.0081 |       0.0070 |      0.0092 |       0.0054 |    0.0276 |    0.0474 |   0.0152 |    0.0886 |    0.0442 |   9.5440\n",
      "UserKNN | 1.3628 |  3.3024 | 1.5193 | 0.3922 | 0.0010 | 0.0011 | 0.0009 | 0.0013 | 0.0030 | 0.0053 |  0.0018 |  0.0026 | 0.0012 |  0.0049 |       0.0006 |       0.0007 |      0.0007 |       0.0007 |    0.0034 |    0.0056 |   0.0016 |    0.0152 |    0.7674 |  47.1325\n",
      "BPR     | 6.6266 | 47.2126 | 6.7179 | 0.7206 | 0.0139 | 0.0141 | 0.0135 | 0.0123 | 0.0198 | 0.0438 |  0.0229 |  0.0308 | 0.0187 |  0.0448 |       0.0104 |       0.0088 |      0.0126 |       0.0068 |    0.0326 |    0.0577 |   0.0206 |    0.1097 |    1.6858 |  11.4104\n",
      "MF      | 1.3035 |  2.9515 | 1.4465 | 0.5144 | 0.0013 | 0.0016 | 0.0011 | 0.0014 | 0.0025 | 0.0062 |  0.0017 |  0.0027 | 0.0014 |  0.0041 |       0.0010 |       0.0010 |      0.0012 |       0.0008 |    0.0023 |    0.0054 |   0.0012 |    0.0101 |    0.2245 |  12.5324\n",
      "PMF     | 1.5390 |  3.8373 | 1.6935 | 0.5587 | 0.0029 | 0.0027 | 0.0026 | 0.0024 | 0.0049 | 0.0096 |  0.0049 |  0.0063 | 0.0034 |  0.0091 |       0.0020 |       0.0016 |      0.0021 |       0.0013 |    0.0084 |    0.0128 |   0.0046 |    0.0236 |    2.2045 |  13.3350\n",
      "NMF     | 1.5507 |  3.8338 | 1.6988 | 0.5389 | 0.0007 | 0.0008 | 0.0006 | 0.0011 | 0.0021 | 0.0039 |  0.0008 |  0.0014 | 0.0005 |  0.0033 |       0.0005 |       0.0005 |      0.0005 |       0.0006 |    0.0015 |    0.0032 |   0.0008 |    0.0109 |    0.6738 |  11.7512\n",
      "WMF     | 5.9878 | 40.1785 | 6.1364 | 0.6612 | 0.0257 | 0.0212 | 0.0289 | 0.0146 | 0.0375 | 0.0760 |  0.0483 |  0.0565 | 0.0421 |  0.0687 |       0.0181 |       0.0130 |      0.0248 |       0.0080 |    0.0640 |    0.0892 |   0.0464 |    0.1348 |   54.0552 |  13.3873\n",
      "PF      | 6.7559 | 48.9375 | 6.8452 | 0.6526 | 0.0109 | 0.0103 | 0.0113 | 0.0083 | 0.0153 | 0.0340 |  0.0188 |  0.0239 | 0.0156 |  0.0323 |       0.0080 |       0.0065 |      0.0103 |       0.0046 |    0.0269 |    0.0425 |   0.0175 |    0.0738 |   31.9320 |  13.3132\n",
      "NeuMF   | 6.7637 | 49.0436 | 6.8523 | 0.7057 | 0.0130 | 0.0125 | 0.0115 | 0.0112 | 0.0183 | 0.0411 |  0.0215 |  0.0279 | 0.0163 |  0.0415 |       0.0094 |       0.0078 |      0.0105 |       0.0062 |    0.0315 |    0.0510 |   0.0177 |    0.1029 |   28.4499 |  18.9168\n",
      "VAECF   | 6.7637 | 49.0436 | 6.8523 | 0.7704 | 0.0185 | 0.0175 | 0.0174 | 0.0143 | 0.0259 | 0.0538 |  0.0314 |  0.0402 | 0.0245 |  0.0559 |       0.0132 |       0.0109 |      0.0153 |       0.0079 |    0.0470 |    0.0740 |   0.0282 |    0.1336 |   20.6193 |  19.5055\n",
      "\n"
     ]
    }
   ],
   "source": [
    "exp = cornac.Experiment(eval_method=rs, models=models, metrics=metrics, user_based=True)\n",
    "exp.run()"
   ]
  },
  {
   "cell_type": "code",
   "execution_count": 10,
   "id": "55a07bec-61ac-4540-98ba-29ddf5bf4dac",
   "metadata": {},
   "outputs": [
    {
     "data": {
      "text/html": [
       "<style type=\"text/css\">\n",
       "#T_0a2d4 th {\n",
       "  background-color: #40466e;\n",
       "  color: white;\n",
       "  font-weight: bold;\n",
       "}\n",
       "#T_0a2d4_row0_col0, #T_0a2d4_row1_col0, #T_0a2d4_row2_col0, #T_0a2d4_row3_col0, #T_0a2d4_row4_col0, #T_0a2d4_row5_col0, #T_0a2d4_row6_col0, #T_0a2d4_row7_col0, #T_0a2d4_row8_col0, #T_0a2d4_row9_col0 {\n",
       "  text-align: center;\n",
       "}\n",
       "#T_0a2d4_row0_col1 {\n",
       "  background-color: #caeab4;\n",
       "  color: #000000;\n",
       "  text-align: center;\n",
       "}\n",
       "#T_0a2d4_row0_col2 {\n",
       "  background-color: #dff2b2;\n",
       "  color: #000000;\n",
       "  text-align: center;\n",
       "}\n",
       "#T_0a2d4_row0_col3 {\n",
       "  background-color: #bbe4b5;\n",
       "  color: #000000;\n",
       "  text-align: center;\n",
       "}\n",
       "#T_0a2d4_row0_col4, #T_0a2d4_row6_col4, #T_0a2d4_row9_col6 {\n",
       "  background-color: #216daf;\n",
       "  color: #f1f1f1;\n",
       "  text-align: center;\n",
       "}\n",
       "#T_0a2d4_row0_col5 {\n",
       "  background-color: #99d7b8;\n",
       "  color: #000000;\n",
       "  text-align: center;\n",
       "}\n",
       "#T_0a2d4_row0_col6, #T_0a2d4_row0_col14 {\n",
       "  background-color: #69c5be;\n",
       "  color: #000000;\n",
       "  text-align: center;\n",
       "}\n",
       "#T_0a2d4_row0_col7, #T_0a2d4_row0_col15 {\n",
       "  background-color: #3db2c4;\n",
       "  color: #f1f1f1;\n",
       "  text-align: center;\n",
       "}\n",
       "#T_0a2d4_row0_col8, #T_0a2d4_row0_col12, #T_0a2d4_row9_col20 {\n",
       "  background-color: #1e8abd;\n",
       "  color: #f1f1f1;\n",
       "  text-align: center;\n",
       "}\n",
       "#T_0a2d4_row0_col9, #T_0a2d4_row7_col19 {\n",
       "  background-color: #87d0ba;\n",
       "  color: #000000;\n",
       "  text-align: center;\n",
       "}\n",
       "#T_0a2d4_row0_col10, #T_0a2d4_row0_col21 {\n",
       "  background-color: #63c3bf;\n",
       "  color: #000000;\n",
       "  text-align: center;\n",
       "}\n",
       "#T_0a2d4_row0_col11, #T_0a2d4_row8_col18 {\n",
       "  background-color: #3cb1c3;\n",
       "  color: #f1f1f1;\n",
       "  text-align: center;\n",
       "}\n",
       "#T_0a2d4_row0_col13 {\n",
       "  background-color: #a2dbb8;\n",
       "  color: #000000;\n",
       "  text-align: center;\n",
       "}\n",
       "#T_0a2d4_row0_col16 {\n",
       "  background-color: #1d8ebf;\n",
       "  color: #f1f1f1;\n",
       "  text-align: center;\n",
       "}\n",
       "#T_0a2d4_row0_col17, #T_0a2d4_row5_col4, #T_0a2d4_row8_col5 {\n",
       "  background-color: #78cbbc;\n",
       "  color: #000000;\n",
       "  text-align: center;\n",
       "}\n",
       "#T_0a2d4_row0_col18, #T_0a2d4_row2_col20 {\n",
       "  background-color: #53bdc1;\n",
       "  color: #000000;\n",
       "  text-align: center;\n",
       "}\n",
       "#T_0a2d4_row0_col19 {\n",
       "  background-color: #95d5b9;\n",
       "  color: #000000;\n",
       "  text-align: center;\n",
       "}\n",
       "#T_0a2d4_row0_col20, #T_0a2d4_row9_col23 {\n",
       "  background-color: #7cccbb;\n",
       "  color: #000000;\n",
       "  text-align: center;\n",
       "}\n",
       "#T_0a2d4_row0_col22, #T_0a2d4_row2_col17 {\n",
       "  background-color: #40b5c4;\n",
       "  color: #f1f1f1;\n",
       "  text-align: center;\n",
       "}\n",
       "#T_0a2d4_row0_col23, #T_0a2d4_row0_col24, #T_0a2d4_row1_col4, #T_0a2d4_row3_col1, #T_0a2d4_row3_col2, #T_0a2d4_row3_col3, #T_0a2d4_row3_col16, #T_0a2d4_row3_col23, #T_0a2d4_row5_col5, #T_0a2d4_row5_col6, #T_0a2d4_row5_col7, #T_0a2d4_row5_col8, #T_0a2d4_row5_col9, #T_0a2d4_row5_col10, #T_0a2d4_row5_col11, #T_0a2d4_row5_col12, #T_0a2d4_row5_col13, #T_0a2d4_row5_col14, #T_0a2d4_row5_col15, #T_0a2d4_row5_col17, #T_0a2d4_row5_col18, #T_0a2d4_row5_col19, #T_0a2d4_row5_col20, #T_0a2d4_row5_col21, #T_0a2d4_row5_col22 {\n",
       "  background-color: #ffffd9;\n",
       "  color: #000000;\n",
       "  text-align: center;\n",
       "}\n",
       "#T_0a2d4_row1_col1, #T_0a2d4_row1_col9, #T_0a2d4_row1_col11, #T_0a2d4_row1_col12, #T_0a2d4_row3_col13, #T_0a2d4_row3_col17, #T_0a2d4_row3_col22, #T_0a2d4_row5_col23 {\n",
       "  background-color: #feffd6;\n",
       "  color: #000000;\n",
       "  text-align: center;\n",
       "}\n",
       "#T_0a2d4_row1_col2, #T_0a2d4_row1_col10, #T_0a2d4_row5_col16 {\n",
       "  background-color: #feffd8;\n",
       "  color: #000000;\n",
       "  text-align: center;\n",
       "}\n",
       "#T_0a2d4_row1_col3, #T_0a2d4_row1_col5, #T_0a2d4_row1_col6, #T_0a2d4_row1_col7, #T_0a2d4_row1_col8, #T_0a2d4_row1_col19, #T_0a2d4_row1_col23, #T_0a2d4_row3_col14 {\n",
       "  background-color: #fdfed5;\n",
       "  color: #000000;\n",
       "  text-align: center;\n",
       "}\n",
       "#T_0a2d4_row1_col13, #T_0a2d4_row3_col8, #T_0a2d4_row3_col12, #T_0a2d4_row3_col20, #T_0a2d4_row4_col2, #T_0a2d4_row5_col2 {\n",
       "  background-color: #fdfed4;\n",
       "  color: #000000;\n",
       "  text-align: center;\n",
       "}\n",
       "#T_0a2d4_row1_col14, #T_0a2d4_row1_col15, #T_0a2d4_row2_col23, #T_0a2d4_row3_col9, #T_0a2d4_row3_col10 {\n",
       "  background-color: #fbfdd0;\n",
       "  color: #000000;\n",
       "  text-align: center;\n",
       "}\n",
       "#T_0a2d4_row1_col16, #T_0a2d4_row4_col23 {\n",
       "  background-color: #f9fdcc;\n",
       "  color: #000000;\n",
       "  text-align: center;\n",
       "}\n",
       "#T_0a2d4_row1_col17, #T_0a2d4_row1_col22, #T_0a2d4_row3_col6, #T_0a2d4_row3_col15, #T_0a2d4_row3_col21 {\n",
       "  background-color: #fcfed1;\n",
       "  color: #000000;\n",
       "  text-align: center;\n",
       "}\n",
       "#T_0a2d4_row1_col18, #T_0a2d4_row1_col20, #T_0a2d4_row1_col21, #T_0a2d4_row3_col5, #T_0a2d4_row3_col19 {\n",
       "  background-color: #fcfed3;\n",
       "  color: #000000;\n",
       "  text-align: center;\n",
       "}\n",
       "#T_0a2d4_row1_col24, #T_0a2d4_row6_col5, #T_0a2d4_row6_col6, #T_0a2d4_row6_col7, #T_0a2d4_row6_col8, #T_0a2d4_row6_col9, #T_0a2d4_row6_col10, #T_0a2d4_row6_col11, #T_0a2d4_row6_col12, #T_0a2d4_row6_col13, #T_0a2d4_row6_col14, #T_0a2d4_row6_col15, #T_0a2d4_row6_col16, #T_0a2d4_row6_col17, #T_0a2d4_row6_col18, #T_0a2d4_row6_col19, #T_0a2d4_row6_col20, #T_0a2d4_row6_col21, #T_0a2d4_row6_col22, #T_0a2d4_row6_col23, #T_0a2d4_row7_col1, #T_0a2d4_row7_col2, #T_0a2d4_row7_col3, #T_0a2d4_row8_col1, #T_0a2d4_row8_col2, #T_0a2d4_row8_col3, #T_0a2d4_row9_col1, #T_0a2d4_row9_col2, #T_0a2d4_row9_col3, #T_0a2d4_row9_col4 {\n",
       "  background-color: #081d58;\n",
       "  color: #f1f1f1;\n",
       "  text-align: center;\n",
       "}\n",
       "#T_0a2d4_row2_col1, #T_0a2d4_row2_col3 {\n",
       "  background-color: #0d2163;\n",
       "  color: #f1f1f1;\n",
       "  text-align: center;\n",
       "}\n",
       "#T_0a2d4_row2_col2 {\n",
       "  background-color: #11246b;\n",
       "  color: #f1f1f1;\n",
       "  text-align: center;\n",
       "}\n",
       "#T_0a2d4_row2_col4, #T_0a2d4_row6_col3 {\n",
       "  background-color: #253595;\n",
       "  color: #f1f1f1;\n",
       "  text-align: center;\n",
       "}\n",
       "#T_0a2d4_row2_col5, #T_0a2d4_row8_col17 {\n",
       "  background-color: #57bec1;\n",
       "  color: #000000;\n",
       "  text-align: center;\n",
       "}\n",
       "#T_0a2d4_row2_col6, #T_0a2d4_row7_col8 {\n",
       "  background-color: #39adc3;\n",
       "  color: #f1f1f1;\n",
       "  text-align: center;\n",
       "}\n",
       "#T_0a2d4_row2_col7 {\n",
       "  background-color: #1e86bb;\n",
       "  color: #f1f1f1;\n",
       "  text-align: center;\n",
       "}\n",
       "#T_0a2d4_row2_col8, #T_0a2d4_row8_col4 {\n",
       "  background-color: #24439b;\n",
       "  color: #f1f1f1;\n",
       "  text-align: center;\n",
       "}\n",
       "#T_0a2d4_row2_col9, #T_0a2d4_row2_col14 {\n",
       "  background-color: #42b6c4;\n",
       "  color: #f1f1f1;\n",
       "  text-align: center;\n",
       "}\n",
       "#T_0a2d4_row2_col10 {\n",
       "  background-color: #2fa4c2;\n",
       "  color: #f1f1f1;\n",
       "  text-align: center;\n",
       "}\n",
       "#T_0a2d4_row2_col11 {\n",
       "  background-color: #1f82b9;\n",
       "  color: #f1f1f1;\n",
       "  text-align: center;\n",
       "}\n",
       "#T_0a2d4_row2_col12 {\n",
       "  background-color: #24409a;\n",
       "  color: #f1f1f1;\n",
       "  text-align: center;\n",
       "}\n",
       "#T_0a2d4_row2_col13, #T_0a2d4_row2_col19, #T_0a2d4_row8_col20 {\n",
       "  background-color: #61c2bf;\n",
       "  color: #000000;\n",
       "  text-align: center;\n",
       "}\n",
       "#T_0a2d4_row2_col15, #T_0a2d4_row2_col22 {\n",
       "  background-color: #1d8dbe;\n",
       "  color: #f1f1f1;\n",
       "  text-align: center;\n",
       "}\n",
       "#T_0a2d4_row2_col16 {\n",
       "  background-color: #234da0;\n",
       "  color: #f1f1f1;\n",
       "  text-align: center;\n",
       "}\n",
       "#T_0a2d4_row2_col18 {\n",
       "  background-color: #32a6c2;\n",
       "  color: #f1f1f1;\n",
       "  text-align: center;\n",
       "}\n",
       "#T_0a2d4_row2_col21, #T_0a2d4_row7_col12 {\n",
       "  background-color: #37acc3;\n",
       "  color: #f1f1f1;\n",
       "  text-align: center;\n",
       "}\n",
       "#T_0a2d4_row2_col24 {\n",
       "  background-color: #f8fcca;\n",
       "  color: #000000;\n",
       "  text-align: center;\n",
       "}\n",
       "#T_0a2d4_row3_col4 {\n",
       "  background-color: #9ed9b8;\n",
       "  color: #000000;\n",
       "  text-align: center;\n",
       "}\n",
       "#T_0a2d4_row3_col7, #T_0a2d4_row3_col11 {\n",
       "  background-color: #fafdce;\n",
       "  color: #000000;\n",
       "  text-align: center;\n",
       "}\n",
       "#T_0a2d4_row3_col18 {\n",
       "  background-color: #fafdcf;\n",
       "  color: #000000;\n",
       "  text-align: center;\n",
       "}\n",
       "#T_0a2d4_row3_col24, #T_0a2d4_row4_col10, #T_0a2d4_row4_col17, #T_0a2d4_row4_col18 {\n",
       "  background-color: #f4fbc0;\n",
       "  color: #000000;\n",
       "  text-align: center;\n",
       "}\n",
       "#T_0a2d4_row4_col1, #T_0a2d4_row4_col3, #T_0a2d4_row5_col1, #T_0a2d4_row5_col3 {\n",
       "  background-color: #f9fdcb;\n",
       "  color: #000000;\n",
       "  text-align: center;\n",
       "}\n",
       "#T_0a2d4_row4_col4 {\n",
       "  background-color: #5fc1c0;\n",
       "  color: #000000;\n",
       "  text-align: center;\n",
       "}\n",
       "#T_0a2d4_row4_col5 {\n",
       "  background-color: #f5fbc2;\n",
       "  color: #000000;\n",
       "  text-align: center;\n",
       "}\n",
       "#T_0a2d4_row4_col6, #T_0a2d4_row4_col7, #T_0a2d4_row4_col12 {\n",
       "  background-color: #f2fabc;\n",
       "  color: #000000;\n",
       "  text-align: center;\n",
       "}\n",
       "#T_0a2d4_row4_col8 {\n",
       "  background-color: #f1fabb;\n",
       "  color: #000000;\n",
       "  text-align: center;\n",
       "}\n",
       "#T_0a2d4_row4_col9, #T_0a2d4_row4_col19 {\n",
       "  background-color: #f5fbc4;\n",
       "  color: #000000;\n",
       "  text-align: center;\n",
       "}\n",
       "#T_0a2d4_row4_col11, #T_0a2d4_row4_col21, #T_0a2d4_row4_col22 {\n",
       "  background-color: #f3fabd;\n",
       "  color: #000000;\n",
       "  text-align: center;\n",
       "}\n",
       "#T_0a2d4_row4_col13, #T_0a2d4_row4_col20 {\n",
       "  background-color: #f3fabf;\n",
       "  color: #000000;\n",
       "  text-align: center;\n",
       "}\n",
       "#T_0a2d4_row4_col14, #T_0a2d4_row4_col15 {\n",
       "  background-color: #eff9b6;\n",
       "  color: #000000;\n",
       "  text-align: center;\n",
       "}\n",
       "#T_0a2d4_row4_col16 {\n",
       "  background-color: #f0f9b7;\n",
       "  color: #000000;\n",
       "  text-align: center;\n",
       "}\n",
       "#T_0a2d4_row4_col24, #T_0a2d4_row7_col24 {\n",
       "  background-color: #f1faba;\n",
       "  color: #000000;\n",
       "  text-align: center;\n",
       "}\n",
       "#T_0a2d4_row5_col24 {\n",
       "  background-color: #f7fcc6;\n",
       "  color: #000000;\n",
       "  text-align: center;\n",
       "}\n",
       "#T_0a2d4_row6_col1 {\n",
       "  background-color: #253997;\n",
       "  color: #f1f1f1;\n",
       "  text-align: center;\n",
       "}\n",
       "#T_0a2d4_row6_col2 {\n",
       "  background-color: #234b9f;\n",
       "  color: #f1f1f1;\n",
       "  text-align: center;\n",
       "}\n",
       "#T_0a2d4_row6_col24 {\n",
       "  background-color: #f0f9b8;\n",
       "  color: #000000;\n",
       "  text-align: center;\n",
       "}\n",
       "#T_0a2d4_row7_col4 {\n",
       "  background-color: #2076b3;\n",
       "  color: #f1f1f1;\n",
       "  text-align: center;\n",
       "}\n",
       "#T_0a2d4_row7_col5, #T_0a2d4_row7_col20, #T_0a2d4_row8_col19 {\n",
       "  background-color: #7ecdbb;\n",
       "  color: #000000;\n",
       "  text-align: center;\n",
       "}\n",
       "#T_0a2d4_row7_col6, #T_0a2d4_row8_col9 {\n",
       "  background-color: #6dc6be;\n",
       "  color: #000000;\n",
       "  text-align: center;\n",
       "}\n",
       "#T_0a2d4_row7_col7 {\n",
       "  background-color: #52bcc2;\n",
       "  color: #000000;\n",
       "  text-align: center;\n",
       "}\n",
       "#T_0a2d4_row7_col9 {\n",
       "  background-color: #71c8bd;\n",
       "  color: #000000;\n",
       "  text-align: center;\n",
       "}\n",
       "#T_0a2d4_row7_col10 {\n",
       "  background-color: #67c4be;\n",
       "  color: #000000;\n",
       "  text-align: center;\n",
       "}\n",
       "#T_0a2d4_row7_col11 {\n",
       "  background-color: #4ebbc2;\n",
       "  color: #000000;\n",
       "  text-align: center;\n",
       "}\n",
       "#T_0a2d4_row7_col13 {\n",
       "  background-color: #85cfba;\n",
       "  color: #000000;\n",
       "  text-align: center;\n",
       "}\n",
       "#T_0a2d4_row7_col14, #T_0a2d4_row7_col21 {\n",
       "  background-color: #6fc7bd;\n",
       "  color: #000000;\n",
       "  text-align: center;\n",
       "}\n",
       "#T_0a2d4_row7_col15 {\n",
       "  background-color: #55bec1;\n",
       "  color: #000000;\n",
       "  text-align: center;\n",
       "}\n",
       "#T_0a2d4_row7_col16 {\n",
       "  background-color: #3eb3c4;\n",
       "  color: #f1f1f1;\n",
       "  text-align: center;\n",
       "}\n",
       "#T_0a2d4_row7_col17 {\n",
       "  background-color: #80cebb;\n",
       "  color: #000000;\n",
       "  text-align: center;\n",
       "}\n",
       "#T_0a2d4_row7_col18 {\n",
       "  background-color: #6bc6be;\n",
       "  color: #000000;\n",
       "  text-align: center;\n",
       "}\n",
       "#T_0a2d4_row7_col22 {\n",
       "  background-color: #5dc0c0;\n",
       "  color: #000000;\n",
       "  text-align: center;\n",
       "}\n",
       "#T_0a2d4_row7_col23 {\n",
       "  background-color: #269bc1;\n",
       "  color: #f1f1f1;\n",
       "  text-align: center;\n",
       "}\n",
       "#T_0a2d4_row8_col6 {\n",
       "  background-color: #44b7c4;\n",
       "  color: #f1f1f1;\n",
       "  text-align: center;\n",
       "}\n",
       "#T_0a2d4_row8_col7, #T_0a2d4_row9_col19 {\n",
       "  background-color: #2b9fc2;\n",
       "  color: #f1f1f1;\n",
       "  text-align: center;\n",
       "}\n",
       "#T_0a2d4_row8_col8, #T_0a2d4_row8_col12 {\n",
       "  background-color: #225da8;\n",
       "  color: #f1f1f1;\n",
       "  text-align: center;\n",
       "}\n",
       "#T_0a2d4_row8_col10 {\n",
       "  background-color: #3fb4c4;\n",
       "  color: #f1f1f1;\n",
       "  text-align: center;\n",
       "}\n",
       "#T_0a2d4_row8_col11, #T_0a2d4_row8_col22 {\n",
       "  background-color: #299dc1;\n",
       "  color: #f1f1f1;\n",
       "  text-align: center;\n",
       "}\n",
       "#T_0a2d4_row8_col13 {\n",
       "  background-color: #83cebb;\n",
       "  color: #000000;\n",
       "  text-align: center;\n",
       "}\n",
       "#T_0a2d4_row8_col14, #T_0a2d4_row8_col21 {\n",
       "  background-color: #4cbac2;\n",
       "  color: #f1f1f1;\n",
       "  text-align: center;\n",
       "}\n",
       "#T_0a2d4_row8_col15 {\n",
       "  background-color: #31a5c2;\n",
       "  color: #f1f1f1;\n",
       "  text-align: center;\n",
       "}\n",
       "#T_0a2d4_row8_col16 {\n",
       "  background-color: #2260a9;\n",
       "  color: #f1f1f1;\n",
       "  text-align: center;\n",
       "}\n",
       "#T_0a2d4_row8_col23 {\n",
       "  background-color: #3aaec3;\n",
       "  color: #f1f1f1;\n",
       "  text-align: center;\n",
       "}\n",
       "#T_0a2d4_row8_col24 {\n",
       "  background-color: #c8e9b4;\n",
       "  color: #000000;\n",
       "  text-align: center;\n",
       "}\n",
       "#T_0a2d4_row9_col5 {\n",
       "  background-color: #259ac1;\n",
       "  color: #f1f1f1;\n",
       "  text-align: center;\n",
       "}\n",
       "#T_0a2d4_row9_col7 {\n",
       "  background-color: #24479d;\n",
       "  color: #f1f1f1;\n",
       "  text-align: center;\n",
       "}\n",
       "#T_0a2d4_row9_col8, #T_0a2d4_row9_col12 {\n",
       "  background-color: #0c2060;\n",
       "  color: #f1f1f1;\n",
       "  text-align: center;\n",
       "}\n",
       "#T_0a2d4_row9_col9 {\n",
       "  background-color: #2195c0;\n",
       "  color: #f1f1f1;\n",
       "  text-align: center;\n",
       "}\n",
       "#T_0a2d4_row9_col10 {\n",
       "  background-color: #216aad;\n",
       "  color: #f1f1f1;\n",
       "  text-align: center;\n",
       "}\n",
       "#T_0a2d4_row9_col11 {\n",
       "  background-color: #24449c;\n",
       "  color: #f1f1f1;\n",
       "  text-align: center;\n",
       "}\n",
       "#T_0a2d4_row9_col13 {\n",
       "  background-color: #2397c1;\n",
       "  color: #f1f1f1;\n",
       "  text-align: center;\n",
       "}\n",
       "#T_0a2d4_row9_col14 {\n",
       "  background-color: #2166ac;\n",
       "  color: #f1f1f1;\n",
       "  text-align: center;\n",
       "}\n",
       "#T_0a2d4_row9_col15 {\n",
       "  background-color: #24459c;\n",
       "  color: #f1f1f1;\n",
       "  text-align: center;\n",
       "}\n",
       "#T_0a2d4_row9_col16 {\n",
       "  background-color: #0a1e5c;\n",
       "  color: #f1f1f1;\n",
       "  text-align: center;\n",
       "}\n",
       "#T_0a2d4_row9_col17 {\n",
       "  background-color: #1f7db6;\n",
       "  color: #f1f1f1;\n",
       "  text-align: center;\n",
       "}\n",
       "#T_0a2d4_row9_col18 {\n",
       "  background-color: #2075b3;\n",
       "  color: #f1f1f1;\n",
       "  text-align: center;\n",
       "}\n",
       "#T_0a2d4_row9_col21 {\n",
       "  background-color: #2070b0;\n",
       "  color: #f1f1f1;\n",
       "  text-align: center;\n",
       "}\n",
       "#T_0a2d4_row9_col22 {\n",
       "  background-color: #234c9f;\n",
       "  color: #f1f1f1;\n",
       "  text-align: center;\n",
       "}\n",
       "#T_0a2d4_row9_col24 {\n",
       "  background-color: #c0e6b5;\n",
       "  color: #000000;\n",
       "  text-align: center;\n",
       "}\n",
       "</style>\n",
       "<table id=\"T_0a2d4\">\n",
       "  <thead>\n",
       "    <tr>\n",
       "      <th class=\"blank level0\" >&nbsp;</th>\n",
       "      <th id=\"T_0a2d4_level0_col0\" class=\"col_heading level0 col0\" >Model</th>\n",
       "      <th id=\"T_0a2d4_level0_col1\" class=\"col_heading level0 col1\" >MAE</th>\n",
       "      <th id=\"T_0a2d4_level0_col2\" class=\"col_heading level0 col2\" >MSE</th>\n",
       "      <th id=\"T_0a2d4_level0_col3\" class=\"col_heading level0 col3\" >RMSE</th>\n",
       "      <th id=\"T_0a2d4_level0_col4\" class=\"col_heading level0 col4\" >AUC</th>\n",
       "      <th id=\"T_0a2d4_level0_col5\" class=\"col_heading level0 col5\" >F1@5</th>\n",
       "      <th id=\"T_0a2d4_level0_col6\" class=\"col_heading level0 col6\" >F1@10</th>\n",
       "      <th id=\"T_0a2d4_level0_col7\" class=\"col_heading level0 col7\" >F1@20</th>\n",
       "      <th id=\"T_0a2d4_level0_col8\" class=\"col_heading level0 col8\" >F1@50</th>\n",
       "      <th id=\"T_0a2d4_level0_col9\" class=\"col_heading level0 col9\" >Precision@5</th>\n",
       "      <th id=\"T_0a2d4_level0_col10\" class=\"col_heading level0 col10\" >Precision@10</th>\n",
       "      <th id=\"T_0a2d4_level0_col11\" class=\"col_heading level0 col11\" >Precision@20</th>\n",
       "      <th id=\"T_0a2d4_level0_col12\" class=\"col_heading level0 col12\" >Precision@50</th>\n",
       "      <th id=\"T_0a2d4_level0_col13\" class=\"col_heading level0 col13\" >Recall@5</th>\n",
       "      <th id=\"T_0a2d4_level0_col14\" class=\"col_heading level0 col14\" >Recall@10</th>\n",
       "      <th id=\"T_0a2d4_level0_col15\" class=\"col_heading level0 col15\" >Recall@20</th>\n",
       "      <th id=\"T_0a2d4_level0_col16\" class=\"col_heading level0 col16\" >Recall@50</th>\n",
       "      <th id=\"T_0a2d4_level0_col17\" class=\"col_heading level0 col17\" >MAP</th>\n",
       "      <th id=\"T_0a2d4_level0_col18\" class=\"col_heading level0 col18\" >MRR</th>\n",
       "      <th id=\"T_0a2d4_level0_col19\" class=\"col_heading level0 col19\" >NDCG@5</th>\n",
       "      <th id=\"T_0a2d4_level0_col20\" class=\"col_heading level0 col20\" >NDCG@10</th>\n",
       "      <th id=\"T_0a2d4_level0_col21\" class=\"col_heading level0 col21\" >NDCG@20</th>\n",
       "      <th id=\"T_0a2d4_level0_col22\" class=\"col_heading level0 col22\" >NDCG@50</th>\n",
       "      <th id=\"T_0a2d4_level0_col23\" class=\"col_heading level0 col23\" >Train (s)</th>\n",
       "      <th id=\"T_0a2d4_level0_col24\" class=\"col_heading level0 col24\" >Test (s)</th>\n",
       "    </tr>\n",
       "  </thead>\n",
       "  <tbody>\n",
       "    <tr>\n",
       "      <th id=\"T_0a2d4_level0_row0\" class=\"row_heading level0 row0\" >0</th>\n",
       "      <td id=\"T_0a2d4_row0_col0\" class=\"data row0 col0\" >MostPop</td>\n",
       "      <td id=\"T_0a2d4_row0_col1\" class=\"data row0 col1\" >2.6249</td>\n",
       "      <td id=\"T_0a2d4_row0_col2\" class=\"data row0 col2\" >10.9153</td>\n",
       "      <td id=\"T_0a2d4_row0_col3\" class=\"data row0 col3\" >2.9120</td>\n",
       "      <td id=\"T_0a2d4_row0_col4\" class=\"data row0 col4\" >0.6617</td>\n",
       "      <td id=\"T_0a2d4_row0_col5\" class=\"data row0 col5\" >0.0099</td>\n",
       "      <td id=\"T_0a2d4_row0_col6\" class=\"data row0 col6\" >0.0112</td>\n",
       "      <td id=\"T_0a2d4_row0_col7\" class=\"data row0 col7\" >0.0113</td>\n",
       "      <td id=\"T_0a2d4_row0_col8\" class=\"data row0 col8\" >0.0098</td>\n",
       "      <td id=\"T_0a2d4_row0_col9\" class=\"data row0 col9\" >0.0092</td>\n",
       "      <td id=\"T_0a2d4_row0_col10\" class=\"data row0 col10\" >0.0081</td>\n",
       "      <td id=\"T_0a2d4_row0_col11\" class=\"data row0 col11\" >0.0070</td>\n",
       "      <td id=\"T_0a2d4_row0_col12\" class=\"data row0 col12\" >0.0054</td>\n",
       "      <td id=\"T_0a2d4_row0_col13\" class=\"data row0 col13\" >0.0152</td>\n",
       "      <td id=\"T_0a2d4_row0_col14\" class=\"data row0 col14\" >0.0276</td>\n",
       "      <td id=\"T_0a2d4_row0_col15\" class=\"data row0 col15\" >0.0474</td>\n",
       "      <td id=\"T_0a2d4_row0_col16\" class=\"data row0 col16\" >0.0886</td>\n",
       "      <td id=\"T_0a2d4_row0_col17\" class=\"data row0 col17\" >0.0158</td>\n",
       "      <td id=\"T_0a2d4_row0_col18\" class=\"data row0 col18\" >0.0373</td>\n",
       "      <td id=\"T_0a2d4_row0_col19\" class=\"data row0 col19\" >0.0145</td>\n",
       "      <td id=\"T_0a2d4_row0_col20\" class=\"data row0 col20\" >0.0189</td>\n",
       "      <td id=\"T_0a2d4_row0_col21\" class=\"data row0 col21\" >0.0252</td>\n",
       "      <td id=\"T_0a2d4_row0_col22\" class=\"data row0 col22\" >0.0361</td>\n",
       "      <td id=\"T_0a2d4_row0_col23\" class=\"data row0 col23\" >0.0442</td>\n",
       "      <td id=\"T_0a2d4_row0_col24\" class=\"data row0 col24\" >9.5440</td>\n",
       "    </tr>\n",
       "    <tr>\n",
       "      <th id=\"T_0a2d4_level0_row1\" class=\"row_heading level0 row1\" >1</th>\n",
       "      <td id=\"T_0a2d4_row1_col0\" class=\"data row1 col0\" >UserKNN</td>\n",
       "      <td id=\"T_0a2d4_row1_col1\" class=\"data row1 col1\" >1.3628</td>\n",
       "      <td id=\"T_0a2d4_row1_col2\" class=\"data row1 col2\" >3.3024</td>\n",
       "      <td id=\"T_0a2d4_row1_col3\" class=\"data row1 col3\" >1.5193</td>\n",
       "      <td id=\"T_0a2d4_row1_col4\" class=\"data row1 col4\" >0.3922</td>\n",
       "      <td id=\"T_0a2d4_row1_col5\" class=\"data row1 col5\" >0.0009</td>\n",
       "      <td id=\"T_0a2d4_row1_col6\" class=\"data row1 col6\" >0.0010</td>\n",
       "      <td id=\"T_0a2d4_row1_col7\" class=\"data row1 col7\" >0.0011</td>\n",
       "      <td id=\"T_0a2d4_row1_col8\" class=\"data row1 col8\" >0.0013</td>\n",
       "      <td id=\"T_0a2d4_row1_col9\" class=\"data row1 col9\" >0.0007</td>\n",
       "      <td id=\"T_0a2d4_row1_col10\" class=\"data row1 col10\" >0.0006</td>\n",
       "      <td id=\"T_0a2d4_row1_col11\" class=\"data row1 col11\" >0.0007</td>\n",
       "      <td id=\"T_0a2d4_row1_col12\" class=\"data row1 col12\" >0.0007</td>\n",
       "      <td id=\"T_0a2d4_row1_col13\" class=\"data row1 col13\" >0.0016</td>\n",
       "      <td id=\"T_0a2d4_row1_col14\" class=\"data row1 col14\" >0.0034</td>\n",
       "      <td id=\"T_0a2d4_row1_col15\" class=\"data row1 col15\" >0.0056</td>\n",
       "      <td id=\"T_0a2d4_row1_col16\" class=\"data row1 col16\" >0.0152</td>\n",
       "      <td id=\"T_0a2d4_row1_col17\" class=\"data row1 col17\" >0.0030</td>\n",
       "      <td id=\"T_0a2d4_row1_col18\" class=\"data row1 col18\" >0.0053</td>\n",
       "      <td id=\"T_0a2d4_row1_col19\" class=\"data row1 col19\" >0.0012</td>\n",
       "      <td id=\"T_0a2d4_row1_col20\" class=\"data row1 col20\" >0.0018</td>\n",
       "      <td id=\"T_0a2d4_row1_col21\" class=\"data row1 col21\" >0.0026</td>\n",
       "      <td id=\"T_0a2d4_row1_col22\" class=\"data row1 col22\" >0.0049</td>\n",
       "      <td id=\"T_0a2d4_row1_col23\" class=\"data row1 col23\" >0.7674</td>\n",
       "      <td id=\"T_0a2d4_row1_col24\" class=\"data row1 col24\" >47.1325</td>\n",
       "    </tr>\n",
       "    <tr>\n",
       "      <th id=\"T_0a2d4_level0_row2\" class=\"row_heading level0 row2\" >2</th>\n",
       "      <td id=\"T_0a2d4_row2_col0\" class=\"data row2 col0\" >BPR</td>\n",
       "      <td id=\"T_0a2d4_row2_col1\" class=\"data row2 col1\" >6.6266</td>\n",
       "      <td id=\"T_0a2d4_row2_col2\" class=\"data row2 col2\" >47.2126</td>\n",
       "      <td id=\"T_0a2d4_row2_col3\" class=\"data row2 col3\" >6.7179</td>\n",
       "      <td id=\"T_0a2d4_row2_col4\" class=\"data row2 col4\" >0.7206</td>\n",
       "      <td id=\"T_0a2d4_row2_col5\" class=\"data row2 col5\" >0.0135</td>\n",
       "      <td id=\"T_0a2d4_row2_col6\" class=\"data row2 col6\" >0.0139</td>\n",
       "      <td id=\"T_0a2d4_row2_col7\" class=\"data row2 col7\" >0.0141</td>\n",
       "      <td id=\"T_0a2d4_row2_col8\" class=\"data row2 col8\" >0.0123</td>\n",
       "      <td id=\"T_0a2d4_row2_col9\" class=\"data row2 col9\" >0.0126</td>\n",
       "      <td id=\"T_0a2d4_row2_col10\" class=\"data row2 col10\" >0.0104</td>\n",
       "      <td id=\"T_0a2d4_row2_col11\" class=\"data row2 col11\" >0.0088</td>\n",
       "      <td id=\"T_0a2d4_row2_col12\" class=\"data row2 col12\" >0.0068</td>\n",
       "      <td id=\"T_0a2d4_row2_col13\" class=\"data row2 col13\" >0.0206</td>\n",
       "      <td id=\"T_0a2d4_row2_col14\" class=\"data row2 col14\" >0.0326</td>\n",
       "      <td id=\"T_0a2d4_row2_col15\" class=\"data row2 col15\" >0.0577</td>\n",
       "      <td id=\"T_0a2d4_row2_col16\" class=\"data row2 col16\" >0.1097</td>\n",
       "      <td id=\"T_0a2d4_row2_col17\" class=\"data row2 col17\" >0.0198</td>\n",
       "      <td id=\"T_0a2d4_row2_col18\" class=\"data row2 col18\" >0.0438</td>\n",
       "      <td id=\"T_0a2d4_row2_col19\" class=\"data row2 col19\" >0.0187</td>\n",
       "      <td id=\"T_0a2d4_row2_col20\" class=\"data row2 col20\" >0.0229</td>\n",
       "      <td id=\"T_0a2d4_row2_col21\" class=\"data row2 col21\" >0.0308</td>\n",
       "      <td id=\"T_0a2d4_row2_col22\" class=\"data row2 col22\" >0.0448</td>\n",
       "      <td id=\"T_0a2d4_row2_col23\" class=\"data row2 col23\" >1.6858</td>\n",
       "      <td id=\"T_0a2d4_row2_col24\" class=\"data row2 col24\" >11.4104</td>\n",
       "    </tr>\n",
       "    <tr>\n",
       "      <th id=\"T_0a2d4_level0_row3\" class=\"row_heading level0 row3\" >3</th>\n",
       "      <td id=\"T_0a2d4_row3_col0\" class=\"data row3 col0\" >MF</td>\n",
       "      <td id=\"T_0a2d4_row3_col1\" class=\"data row3 col1\" >1.3035</td>\n",
       "      <td id=\"T_0a2d4_row3_col2\" class=\"data row3 col2\" >2.9515</td>\n",
       "      <td id=\"T_0a2d4_row3_col3\" class=\"data row3 col3\" >1.4465</td>\n",
       "      <td id=\"T_0a2d4_row3_col4\" class=\"data row3 col4\" >0.5144</td>\n",
       "      <td id=\"T_0a2d4_row3_col5\" class=\"data row3 col5\" >0.0011</td>\n",
       "      <td id=\"T_0a2d4_row3_col6\" class=\"data row3 col6\" >0.0013</td>\n",
       "      <td id=\"T_0a2d4_row3_col7\" class=\"data row3 col7\" >0.0016</td>\n",
       "      <td id=\"T_0a2d4_row3_col8\" class=\"data row3 col8\" >0.0014</td>\n",
       "      <td id=\"T_0a2d4_row3_col9\" class=\"data row3 col9\" >0.0012</td>\n",
       "      <td id=\"T_0a2d4_row3_col10\" class=\"data row3 col10\" >0.0010</td>\n",
       "      <td id=\"T_0a2d4_row3_col11\" class=\"data row3 col11\" >0.0010</td>\n",
       "      <td id=\"T_0a2d4_row3_col12\" class=\"data row3 col12\" >0.0008</td>\n",
       "      <td id=\"T_0a2d4_row3_col13\" class=\"data row3 col13\" >0.0012</td>\n",
       "      <td id=\"T_0a2d4_row3_col14\" class=\"data row3 col14\" >0.0023</td>\n",
       "      <td id=\"T_0a2d4_row3_col15\" class=\"data row3 col15\" >0.0054</td>\n",
       "      <td id=\"T_0a2d4_row3_col16\" class=\"data row3 col16\" >0.0101</td>\n",
       "      <td id=\"T_0a2d4_row3_col17\" class=\"data row3 col17\" >0.0025</td>\n",
       "      <td id=\"T_0a2d4_row3_col18\" class=\"data row3 col18\" >0.0062</td>\n",
       "      <td id=\"T_0a2d4_row3_col19\" class=\"data row3 col19\" >0.0014</td>\n",
       "      <td id=\"T_0a2d4_row3_col20\" class=\"data row3 col20\" >0.0017</td>\n",
       "      <td id=\"T_0a2d4_row3_col21\" class=\"data row3 col21\" >0.0027</td>\n",
       "      <td id=\"T_0a2d4_row3_col22\" class=\"data row3 col22\" >0.0041</td>\n",
       "      <td id=\"T_0a2d4_row3_col23\" class=\"data row3 col23\" >0.2245</td>\n",
       "      <td id=\"T_0a2d4_row3_col24\" class=\"data row3 col24\" >12.5324</td>\n",
       "    </tr>\n",
       "    <tr>\n",
       "      <th id=\"T_0a2d4_level0_row4\" class=\"row_heading level0 row4\" >4</th>\n",
       "      <td id=\"T_0a2d4_row4_col0\" class=\"data row4 col0\" >PMF</td>\n",
       "      <td id=\"T_0a2d4_row4_col1\" class=\"data row4 col1\" >1.5390</td>\n",
       "      <td id=\"T_0a2d4_row4_col2\" class=\"data row4 col2\" >3.8373</td>\n",
       "      <td id=\"T_0a2d4_row4_col3\" class=\"data row4 col3\" >1.6935</td>\n",
       "      <td id=\"T_0a2d4_row4_col4\" class=\"data row4 col4\" >0.5587</td>\n",
       "      <td id=\"T_0a2d4_row4_col5\" class=\"data row4 col5\" >0.0026</td>\n",
       "      <td id=\"T_0a2d4_row4_col6\" class=\"data row4 col6\" >0.0029</td>\n",
       "      <td id=\"T_0a2d4_row4_col7\" class=\"data row4 col7\" >0.0027</td>\n",
       "      <td id=\"T_0a2d4_row4_col8\" class=\"data row4 col8\" >0.0024</td>\n",
       "      <td id=\"T_0a2d4_row4_col9\" class=\"data row4 col9\" >0.0021</td>\n",
       "      <td id=\"T_0a2d4_row4_col10\" class=\"data row4 col10\" >0.0020</td>\n",
       "      <td id=\"T_0a2d4_row4_col11\" class=\"data row4 col11\" >0.0016</td>\n",
       "      <td id=\"T_0a2d4_row4_col12\" class=\"data row4 col12\" >0.0013</td>\n",
       "      <td id=\"T_0a2d4_row4_col13\" class=\"data row4 col13\" >0.0046</td>\n",
       "      <td id=\"T_0a2d4_row4_col14\" class=\"data row4 col14\" >0.0084</td>\n",
       "      <td id=\"T_0a2d4_row4_col15\" class=\"data row4 col15\" >0.0128</td>\n",
       "      <td id=\"T_0a2d4_row4_col16\" class=\"data row4 col16\" >0.0236</td>\n",
       "      <td id=\"T_0a2d4_row4_col17\" class=\"data row4 col17\" >0.0049</td>\n",
       "      <td id=\"T_0a2d4_row4_col18\" class=\"data row4 col18\" >0.0096</td>\n",
       "      <td id=\"T_0a2d4_row4_col19\" class=\"data row4 col19\" >0.0034</td>\n",
       "      <td id=\"T_0a2d4_row4_col20\" class=\"data row4 col20\" >0.0049</td>\n",
       "      <td id=\"T_0a2d4_row4_col21\" class=\"data row4 col21\" >0.0063</td>\n",
       "      <td id=\"T_0a2d4_row4_col22\" class=\"data row4 col22\" >0.0091</td>\n",
       "      <td id=\"T_0a2d4_row4_col23\" class=\"data row4 col23\" >2.2045</td>\n",
       "      <td id=\"T_0a2d4_row4_col24\" class=\"data row4 col24\" >13.3350</td>\n",
       "    </tr>\n",
       "    <tr>\n",
       "      <th id=\"T_0a2d4_level0_row5\" class=\"row_heading level0 row5\" >5</th>\n",
       "      <td id=\"T_0a2d4_row5_col0\" class=\"data row5 col0\" >NMF</td>\n",
       "      <td id=\"T_0a2d4_row5_col1\" class=\"data row5 col1\" >1.5507</td>\n",
       "      <td id=\"T_0a2d4_row5_col2\" class=\"data row5 col2\" >3.8338</td>\n",
       "      <td id=\"T_0a2d4_row5_col3\" class=\"data row5 col3\" >1.6988</td>\n",
       "      <td id=\"T_0a2d4_row5_col4\" class=\"data row5 col4\" >0.5389</td>\n",
       "      <td id=\"T_0a2d4_row5_col5\" class=\"data row5 col5\" >0.0006</td>\n",
       "      <td id=\"T_0a2d4_row5_col6\" class=\"data row5 col6\" >0.0007</td>\n",
       "      <td id=\"T_0a2d4_row5_col7\" class=\"data row5 col7\" >0.0008</td>\n",
       "      <td id=\"T_0a2d4_row5_col8\" class=\"data row5 col8\" >0.0011</td>\n",
       "      <td id=\"T_0a2d4_row5_col9\" class=\"data row5 col9\" >0.0005</td>\n",
       "      <td id=\"T_0a2d4_row5_col10\" class=\"data row5 col10\" >0.0005</td>\n",
       "      <td id=\"T_0a2d4_row5_col11\" class=\"data row5 col11\" >0.0005</td>\n",
       "      <td id=\"T_0a2d4_row5_col12\" class=\"data row5 col12\" >0.0006</td>\n",
       "      <td id=\"T_0a2d4_row5_col13\" class=\"data row5 col13\" >0.0008</td>\n",
       "      <td id=\"T_0a2d4_row5_col14\" class=\"data row5 col14\" >0.0015</td>\n",
       "      <td id=\"T_0a2d4_row5_col15\" class=\"data row5 col15\" >0.0032</td>\n",
       "      <td id=\"T_0a2d4_row5_col16\" class=\"data row5 col16\" >0.0109</td>\n",
       "      <td id=\"T_0a2d4_row5_col17\" class=\"data row5 col17\" >0.0021</td>\n",
       "      <td id=\"T_0a2d4_row5_col18\" class=\"data row5 col18\" >0.0039</td>\n",
       "      <td id=\"T_0a2d4_row5_col19\" class=\"data row5 col19\" >0.0005</td>\n",
       "      <td id=\"T_0a2d4_row5_col20\" class=\"data row5 col20\" >0.0008</td>\n",
       "      <td id=\"T_0a2d4_row5_col21\" class=\"data row5 col21\" >0.0014</td>\n",
       "      <td id=\"T_0a2d4_row5_col22\" class=\"data row5 col22\" >0.0033</td>\n",
       "      <td id=\"T_0a2d4_row5_col23\" class=\"data row5 col23\" >0.6738</td>\n",
       "      <td id=\"T_0a2d4_row5_col24\" class=\"data row5 col24\" >11.7512</td>\n",
       "    </tr>\n",
       "    <tr>\n",
       "      <th id=\"T_0a2d4_level0_row6\" class=\"row_heading level0 row6\" >6</th>\n",
       "      <td id=\"T_0a2d4_row6_col0\" class=\"data row6 col0\" >WMF</td>\n",
       "      <td id=\"T_0a2d4_row6_col1\" class=\"data row6 col1\" >5.9878</td>\n",
       "      <td id=\"T_0a2d4_row6_col2\" class=\"data row6 col2\" >40.1785</td>\n",
       "      <td id=\"T_0a2d4_row6_col3\" class=\"data row6 col3\" >6.1364</td>\n",
       "      <td id=\"T_0a2d4_row6_col4\" class=\"data row6 col4\" >0.6612</td>\n",
       "      <td id=\"T_0a2d4_row6_col5\" class=\"data row6 col5\" >0.0289</td>\n",
       "      <td id=\"T_0a2d4_row6_col6\" class=\"data row6 col6\" >0.0257</td>\n",
       "      <td id=\"T_0a2d4_row6_col7\" class=\"data row6 col7\" >0.0212</td>\n",
       "      <td id=\"T_0a2d4_row6_col8\" class=\"data row6 col8\" >0.0146</td>\n",
       "      <td id=\"T_0a2d4_row6_col9\" class=\"data row6 col9\" >0.0248</td>\n",
       "      <td id=\"T_0a2d4_row6_col10\" class=\"data row6 col10\" >0.0181</td>\n",
       "      <td id=\"T_0a2d4_row6_col11\" class=\"data row6 col11\" >0.0130</td>\n",
       "      <td id=\"T_0a2d4_row6_col12\" class=\"data row6 col12\" >0.0080</td>\n",
       "      <td id=\"T_0a2d4_row6_col13\" class=\"data row6 col13\" >0.0464</td>\n",
       "      <td id=\"T_0a2d4_row6_col14\" class=\"data row6 col14\" >0.0640</td>\n",
       "      <td id=\"T_0a2d4_row6_col15\" class=\"data row6 col15\" >0.0892</td>\n",
       "      <td id=\"T_0a2d4_row6_col16\" class=\"data row6 col16\" >0.1348</td>\n",
       "      <td id=\"T_0a2d4_row6_col17\" class=\"data row6 col17\" >0.0375</td>\n",
       "      <td id=\"T_0a2d4_row6_col18\" class=\"data row6 col18\" >0.0760</td>\n",
       "      <td id=\"T_0a2d4_row6_col19\" class=\"data row6 col19\" >0.0421</td>\n",
       "      <td id=\"T_0a2d4_row6_col20\" class=\"data row6 col20\" >0.0483</td>\n",
       "      <td id=\"T_0a2d4_row6_col21\" class=\"data row6 col21\" >0.0565</td>\n",
       "      <td id=\"T_0a2d4_row6_col22\" class=\"data row6 col22\" >0.0687</td>\n",
       "      <td id=\"T_0a2d4_row6_col23\" class=\"data row6 col23\" >54.0552</td>\n",
       "      <td id=\"T_0a2d4_row6_col24\" class=\"data row6 col24\" >13.3873</td>\n",
       "    </tr>\n",
       "    <tr>\n",
       "      <th id=\"T_0a2d4_level0_row7\" class=\"row_heading level0 row7\" >7</th>\n",
       "      <td id=\"T_0a2d4_row7_col0\" class=\"data row7 col0\" >PF</td>\n",
       "      <td id=\"T_0a2d4_row7_col1\" class=\"data row7 col1\" >6.7559</td>\n",
       "      <td id=\"T_0a2d4_row7_col2\" class=\"data row7 col2\" >48.9375</td>\n",
       "      <td id=\"T_0a2d4_row7_col3\" class=\"data row7 col3\" >6.8452</td>\n",
       "      <td id=\"T_0a2d4_row7_col4\" class=\"data row7 col4\" >0.6526</td>\n",
       "      <td id=\"T_0a2d4_row7_col5\" class=\"data row7 col5\" >0.0113</td>\n",
       "      <td id=\"T_0a2d4_row7_col6\" class=\"data row7 col6\" >0.0109</td>\n",
       "      <td id=\"T_0a2d4_row7_col7\" class=\"data row7 col7\" >0.0103</td>\n",
       "      <td id=\"T_0a2d4_row7_col8\" class=\"data row7 col8\" >0.0083</td>\n",
       "      <td id=\"T_0a2d4_row7_col9\" class=\"data row7 col9\" >0.0103</td>\n",
       "      <td id=\"T_0a2d4_row7_col10\" class=\"data row7 col10\" >0.0080</td>\n",
       "      <td id=\"T_0a2d4_row7_col11\" class=\"data row7 col11\" >0.0065</td>\n",
       "      <td id=\"T_0a2d4_row7_col12\" class=\"data row7 col12\" >0.0046</td>\n",
       "      <td id=\"T_0a2d4_row7_col13\" class=\"data row7 col13\" >0.0175</td>\n",
       "      <td id=\"T_0a2d4_row7_col14\" class=\"data row7 col14\" >0.0269</td>\n",
       "      <td id=\"T_0a2d4_row7_col15\" class=\"data row7 col15\" >0.0425</td>\n",
       "      <td id=\"T_0a2d4_row7_col16\" class=\"data row7 col16\" >0.0738</td>\n",
       "      <td id=\"T_0a2d4_row7_col17\" class=\"data row7 col17\" >0.0153</td>\n",
       "      <td id=\"T_0a2d4_row7_col18\" class=\"data row7 col18\" >0.0340</td>\n",
       "      <td id=\"T_0a2d4_row7_col19\" class=\"data row7 col19\" >0.0156</td>\n",
       "      <td id=\"T_0a2d4_row7_col20\" class=\"data row7 col20\" >0.0188</td>\n",
       "      <td id=\"T_0a2d4_row7_col21\" class=\"data row7 col21\" >0.0239</td>\n",
       "      <td id=\"T_0a2d4_row7_col22\" class=\"data row7 col22\" >0.0323</td>\n",
       "      <td id=\"T_0a2d4_row7_col23\" class=\"data row7 col23\" >31.9320</td>\n",
       "      <td id=\"T_0a2d4_row7_col24\" class=\"data row7 col24\" >13.3132</td>\n",
       "    </tr>\n",
       "    <tr>\n",
       "      <th id=\"T_0a2d4_level0_row8\" class=\"row_heading level0 row8\" >8</th>\n",
       "      <td id=\"T_0a2d4_row8_col0\" class=\"data row8 col0\" >NeuMF</td>\n",
       "      <td id=\"T_0a2d4_row8_col1\" class=\"data row8 col1\" >6.7637</td>\n",
       "      <td id=\"T_0a2d4_row8_col2\" class=\"data row8 col2\" >49.0436</td>\n",
       "      <td id=\"T_0a2d4_row8_col3\" class=\"data row8 col3\" >6.8523</td>\n",
       "      <td id=\"T_0a2d4_row8_col4\" class=\"data row8 col4\" >0.7057</td>\n",
       "      <td id=\"T_0a2d4_row8_col5\" class=\"data row8 col5\" >0.0115</td>\n",
       "      <td id=\"T_0a2d4_row8_col6\" class=\"data row8 col6\" >0.0130</td>\n",
       "      <td id=\"T_0a2d4_row8_col7\" class=\"data row8 col7\" >0.0125</td>\n",
       "      <td id=\"T_0a2d4_row8_col8\" class=\"data row8 col8\" >0.0112</td>\n",
       "      <td id=\"T_0a2d4_row8_col9\" class=\"data row8 col9\" >0.0105</td>\n",
       "      <td id=\"T_0a2d4_row8_col10\" class=\"data row8 col10\" >0.0094</td>\n",
       "      <td id=\"T_0a2d4_row8_col11\" class=\"data row8 col11\" >0.0078</td>\n",
       "      <td id=\"T_0a2d4_row8_col12\" class=\"data row8 col12\" >0.0062</td>\n",
       "      <td id=\"T_0a2d4_row8_col13\" class=\"data row8 col13\" >0.0177</td>\n",
       "      <td id=\"T_0a2d4_row8_col14\" class=\"data row8 col14\" >0.0315</td>\n",
       "      <td id=\"T_0a2d4_row8_col15\" class=\"data row8 col15\" >0.0510</td>\n",
       "      <td id=\"T_0a2d4_row8_col16\" class=\"data row8 col16\" >0.1029</td>\n",
       "      <td id=\"T_0a2d4_row8_col17\" class=\"data row8 col17\" >0.0183</td>\n",
       "      <td id=\"T_0a2d4_row8_col18\" class=\"data row8 col18\" >0.0411</td>\n",
       "      <td id=\"T_0a2d4_row8_col19\" class=\"data row8 col19\" >0.0163</td>\n",
       "      <td id=\"T_0a2d4_row8_col20\" class=\"data row8 col20\" >0.0215</td>\n",
       "      <td id=\"T_0a2d4_row8_col21\" class=\"data row8 col21\" >0.0279</td>\n",
       "      <td id=\"T_0a2d4_row8_col22\" class=\"data row8 col22\" >0.0415</td>\n",
       "      <td id=\"T_0a2d4_row8_col23\" class=\"data row8 col23\" >28.4499</td>\n",
       "      <td id=\"T_0a2d4_row8_col24\" class=\"data row8 col24\" >18.9168</td>\n",
       "    </tr>\n",
       "    <tr>\n",
       "      <th id=\"T_0a2d4_level0_row9\" class=\"row_heading level0 row9\" >9</th>\n",
       "      <td id=\"T_0a2d4_row9_col0\" class=\"data row9 col0\" >VAECF</td>\n",
       "      <td id=\"T_0a2d4_row9_col1\" class=\"data row9 col1\" >6.7637</td>\n",
       "      <td id=\"T_0a2d4_row9_col2\" class=\"data row9 col2\" >49.0436</td>\n",
       "      <td id=\"T_0a2d4_row9_col3\" class=\"data row9 col3\" >6.8523</td>\n",
       "      <td id=\"T_0a2d4_row9_col4\" class=\"data row9 col4\" >0.7704</td>\n",
       "      <td id=\"T_0a2d4_row9_col5\" class=\"data row9 col5\" >0.0174</td>\n",
       "      <td id=\"T_0a2d4_row9_col6\" class=\"data row9 col6\" >0.0185</td>\n",
       "      <td id=\"T_0a2d4_row9_col7\" class=\"data row9 col7\" >0.0175</td>\n",
       "      <td id=\"T_0a2d4_row9_col8\" class=\"data row9 col8\" >0.0143</td>\n",
       "      <td id=\"T_0a2d4_row9_col9\" class=\"data row9 col9\" >0.0153</td>\n",
       "      <td id=\"T_0a2d4_row9_col10\" class=\"data row9 col10\" >0.0132</td>\n",
       "      <td id=\"T_0a2d4_row9_col11\" class=\"data row9 col11\" >0.0109</td>\n",
       "      <td id=\"T_0a2d4_row9_col12\" class=\"data row9 col12\" >0.0079</td>\n",
       "      <td id=\"T_0a2d4_row9_col13\" class=\"data row9 col13\" >0.0282</td>\n",
       "      <td id=\"T_0a2d4_row9_col14\" class=\"data row9 col14\" >0.0470</td>\n",
       "      <td id=\"T_0a2d4_row9_col15\" class=\"data row9 col15\" >0.0740</td>\n",
       "      <td id=\"T_0a2d4_row9_col16\" class=\"data row9 col16\" >0.1336</td>\n",
       "      <td id=\"T_0a2d4_row9_col17\" class=\"data row9 col17\" >0.0259</td>\n",
       "      <td id=\"T_0a2d4_row9_col18\" class=\"data row9 col18\" >0.0538</td>\n",
       "      <td id=\"T_0a2d4_row9_col19\" class=\"data row9 col19\" >0.0245</td>\n",
       "      <td id=\"T_0a2d4_row9_col20\" class=\"data row9 col20\" >0.0314</td>\n",
       "      <td id=\"T_0a2d4_row9_col21\" class=\"data row9 col21\" >0.0402</td>\n",
       "      <td id=\"T_0a2d4_row9_col22\" class=\"data row9 col22\" >0.0559</td>\n",
       "      <td id=\"T_0a2d4_row9_col23\" class=\"data row9 col23\" >20.6193</td>\n",
       "      <td id=\"T_0a2d4_row9_col24\" class=\"data row9 col24\" >19.5055</td>\n",
       "    </tr>\n",
       "  </tbody>\n",
       "</table>\n"
      ],
      "text/plain": [
       "<pandas.io.formats.style.Styler at 0x14612d1f3f70>"
      ]
     },
     "metadata": {},
     "output_type": "display_data"
    }
   ],
   "source": [
    "import pandas as pd\n",
    "from collections import OrderedDict\n",
    "from IPython.display import display\n",
    "\n",
    "# Initialize list to store all model results\n",
    "all_results = []\n",
    "\n",
    "# Process each model's results\n",
    "for model_result in exp.result:\n",
    "    # Create a dictionary for the current model\n",
    "    model_data = OrderedDict()\n",
    "    model_data['Model'] = model_result.model_name\n",
    "    \n",
    "    # Add all metrics from metric_avg_results\n",
    "    for metric_name, metric_value in model_result.metric_avg_results.items():\n",
    "        model_data[metric_name] = metric_value\n",
    "    \n",
    "    all_results.append(model_data)\n",
    "\n",
    "# Create DataFrame with consistent column order\n",
    "metrics_order = [\n",
    "    'MAE', 'MSE', 'RMSE', 'AUC',\n",
    "    'F1@5', 'F1@10', 'F1@20', 'F1@50',\n",
    "    'Precision@5', 'Precision@10', 'Precision@20', 'Precision@50',\n",
    "    'Recall@5', 'Recall@10', 'Recall@20', 'Recall@50',\n",
    "    'MAP', 'MRR', \n",
    "    'NDCG@5', 'NDCG@10', 'NDCG@20', 'NDCG@50',\n",
    "    'Train (s)', 'Test (s)'\n",
    "]\n",
    "\n",
    "# Convert to DataFrame and reorder columns\n",
    "results_df = pd.DataFrame(all_results)\n",
    "results_df = results_df[['Model'] + metrics_order]\n",
    "\n",
    "# Custom formatting for display\n",
    "def format_metric(x):\n",
    "    if isinstance(x, (int, float)):\n",
    "        return f\"{x:.4f}\" if abs(x) < 100 else f\"{x:.1f}\"\n",
    "    return x\n",
    "\n",
    "styled_df = (results_df.style\n",
    "             .format(format_metric)\n",
    "             .background_gradient(subset=metrics_order, cmap='YlGnBu')\n",
    "             .set_properties(**{'text-align': 'center'})\n",
    "             .set_table_styles([{\n",
    "                 'selector': 'th',\n",
    "                 'props': [('background-color', '#40466e'), \n",
    "                           ('color', 'white'),\n",
    "                           ('font-weight', 'bold')]\n",
    "             }]))\n",
    "\n",
    "display(styled_df)"
   ]
  },
  {
   "cell_type": "code",
   "execution_count": 11,
   "id": "0777ec7e-c998-4ef5-940b-01c8539795c3",
   "metadata": {},
   "outputs": [],
   "source": [
    "results_df.to_csv('finetuned_results.csv', index=False)"
   ]
  },
  {
   "cell_type": "code",
   "execution_count": null,
   "id": "faaacb6e-25eb-4935-a823-7fe497845c9f",
   "metadata": {},
   "outputs": [],
   "source": [
    "# Create directory for saved models\n",
    "os.makedirs(\"models_finetuned\", exist_ok=True)\n",
    "\n",
    "# Save each model\n",
    "for model in exp.models:\n",
    "    model_name = model.name if hasattr(model, 'name') else model.__class__.__name__\n",
    "    \n",
    "    # Method 1: Using Cornac's native save (if available)\n",
    "    if hasattr(model, 'save'):\n",
    "        model.save(f\"models_finetuned/{model_name}\")\n",
    "        print(f\"Saved {model_name} using Cornac's native save()\")\n",
    "    \n",
    "    "
   ]
  },
  {
   "cell_type": "code",
   "execution_count": 18,
   "id": "c0bdbef6-252a-43b8-bce9-46b46d8c76ee",
   "metadata": {},
   "outputs": [],
   "source": [
    "#NEXT: GET TOP N, SAVE THEM, THEN WE WILL ANALYSE THEM!!!!1 MANEL'S DIVERSITY ACCURACY TRADEOFF PAPER"
   ]
  },
  {
   "cell_type": "code",
   "execution_count": 16,
   "id": "cd3ffc6c-2ad8-43c6-9dfc-ab3ab69504ff",
   "metadata": {},
   "outputs": [],
   "source": [
    "#NOTE: we saw above that cornac makes sure that all users are present in train, valid and test set. So it doesn't matter where you generate recs from\n",
    "def get_top_n(algo_name, n=10):\n",
    "    top_n = defaultdict(list)\n",
    "    \n",
    "    for model in exp.models:\n",
    "        if model.name == algo_name:\n",
    "            print(f\"{model.name} model is selected:\")\n",
    "            for uid in model.train_set.uid_map.values():\n",
    "                user_id = list(model.train_set.user_ids)[uid]\n",
    "                try:\n",
    "                    item_rank = model.rank(user_idx=uid)[0]  # model.rank: item rank, item_score\n",
    "                except:\n",
    "                    item_rank = model.rank(user_idx=int(uid))[0]\n",
    "                \n",
    "                # Collect top N items\n",
    "                item_rank_top = item_rank[:n]\n",
    "                for iid in item_rank_top:\n",
    "                    item_id = list(model.train_set.item_ids)[iid]\n",
    "                    \n",
    "                    # Check if item_id is an integer (it might be an ISBN as string)\n",
    "                    try:\n",
    "                        item_id = str(item_id)  # Treat ISBNs or other IDs as strings\n",
    "                        top_n[int(user_id)].append((item_id, model.score(uid, iid)))  # Use item_id as string\n",
    "                    except ValueError:\n",
    "                        # Handle case where item_id cannot be converted to int\n",
    "                        top_n[int(user_id)].append((item_id, model.score(uid, iid)))\n",
    "    \n",
    "    return top_n"
   ]
  },
  {
   "cell_type": "code",
   "execution_count": 17,
   "id": "a2aebf00-0263-46e3-8def-5ab325b715f7",
   "metadata": {},
   "outputs": [
    {
     "name": "stdout",
     "output_type": "stream",
     "text": [
      "MostPop model is selected:\n",
      "Recommendations generated for: MostPop\n",
      "Saved recommendations for MostPop to recommendations_MostPop.csv\n",
      "UserKNN model is selected:\n",
      "Recommendations generated for: UserKNN\n",
      "Saved recommendations for UserKNN to recommendations_UserKNN.csv\n",
      "BPR model is selected:\n",
      "Recommendations generated for: BPR\n",
      "Saved recommendations for BPR to recommendations_BPR.csv\n",
      "MF model is selected:\n",
      "Recommendations generated for: MF\n",
      "Saved recommendations for MF to recommendations_MF.csv\n",
      "PMF model is selected:\n",
      "Recommendations generated for: PMF\n",
      "Saved recommendations for PMF to recommendations_PMF.csv\n",
      "NMF model is selected:\n",
      "Recommendations generated for: NMF\n",
      "Saved recommendations for NMF to recommendations_NMF.csv\n",
      "WMF model is selected:\n",
      "Recommendations generated for: WMF\n",
      "Saved recommendations for WMF to recommendations_WMF.csv\n",
      "PF model is selected:\n",
      "Recommendations generated for: PF\n",
      "Saved recommendations for PF to recommendations_PF.csv\n",
      "NeuMF model is selected:\n",
      "Recommendations generated for: NeuMF\n"
     ]
    },
    {
     "name": "stderr",
     "output_type": "stream",
     "text": [
      "/tmp/ipykernel_57080/2299306686.py:11: DeprecationWarning: Conversion of an array with ndim > 0 to a scalar is deprecated, and will error in future. Ensure you extract a single element from your array before performing this operation. (Deprecated NumPy 1.25.)\n",
      "  data.append([user_id, item_id, float(score)])\n"
     ]
    },
    {
     "name": "stdout",
     "output_type": "stream",
     "text": [
      "Saved recommendations for NeuMF to recommendations_NeuMF.csv\n",
      "VAECF model is selected:\n",
      "Recommendations generated for: VAECF\n",
      "Saved recommendations for VAECF to recommendations_VAECF.csv\n"
     ]
    }
   ],
   "source": [
    "# Generate and save recommendations for each model\n",
    "model_names = [\"MostPop\", \"UserKNN\", \"BPR\", \"MF\", \"PMF\",\"NMF\", \"WMF\", \"PF\", \"NeuMF\", \"VAECF\"]     \n",
    "\n",
    "for name in model_names:\n",
    "    recommendations = get_top_n(name, n=10)\n",
    "    print('Recommendations generated for:', name)\n",
    "    # Save to CSV\n",
    "    data = []\n",
    "    for user_id, items in recommendations.items():\n",
    "        for item_id, score in items:\n",
    "            data.append([user_id, item_id, float(score)])\n",
    "    \n",
    "    df = pd.DataFrame(data, columns=[\"user_id\", \"item_id\", \"score\"])\n",
    "    df.to_csv(f\"recommendations_finetuned_{name}.csv\", index=False)\n",
    "    print(f\"Saved recommendations for {name} to recommendations_{name}.csv\")"
   ]
  },
  {
   "cell_type": "code",
   "execution_count": 24,
   "id": "e9bfe308-2f73-4cb9-a0a8-7715b4759755",
   "metadata": {},
   "outputs": [
    {
     "data": {
      "text/html": [
       "<div>\n",
       "<style scoped>\n",
       "    .dataframe tbody tr th:only-of-type {\n",
       "        vertical-align: middle;\n",
       "    }\n",
       "\n",
       "    .dataframe tbody tr th {\n",
       "        vertical-align: top;\n",
       "    }\n",
       "\n",
       "    .dataframe thead th {\n",
       "        text-align: right;\n",
       "    }\n",
       "</style>\n",
       "<table border=\"1\" class=\"dataframe\">\n",
       "  <thead>\n",
       "    <tr style=\"text-align: right;\">\n",
       "      <th></th>\n",
       "      <th>user_id</th>\n",
       "      <th>item_id</th>\n",
       "      <th>score</th>\n",
       "    </tr>\n",
       "  </thead>\n",
       "  <tbody>\n",
       "    <tr>\n",
       "      <th>0</th>\n",
       "      <td>232052</td>\n",
       "      <td>039480001X</td>\n",
       "      <td>9.606973</td>\n",
       "    </tr>\n",
       "    <tr>\n",
       "      <th>1</th>\n",
       "      <td>232052</td>\n",
       "      <td>0553148001</td>\n",
       "      <td>9.571980</td>\n",
       "    </tr>\n",
       "    <tr>\n",
       "      <th>2</th>\n",
       "      <td>232052</td>\n",
       "      <td>0064401871</td>\n",
       "      <td>9.524368</td>\n",
       "    </tr>\n",
       "    <tr>\n",
       "      <th>3</th>\n",
       "      <td>232052</td>\n",
       "      <td>0060256672</td>\n",
       "      <td>9.495006</td>\n",
       "    </tr>\n",
       "    <tr>\n",
       "      <th>4</th>\n",
       "      <td>232052</td>\n",
       "      <td>0140434003</td>\n",
       "      <td>9.466053</td>\n",
       "    </tr>\n",
       "    <tr>\n",
       "      <th>...</th>\n",
       "      <td>...</td>\n",
       "      <td>...</td>\n",
       "      <td>...</td>\n",
       "    </tr>\n",
       "    <tr>\n",
       "      <th>54165</th>\n",
       "      <td>196085</td>\n",
       "      <td>0061054143</td>\n",
       "      <td>5.719382</td>\n",
       "    </tr>\n",
       "    <tr>\n",
       "      <th>54166</th>\n",
       "      <td>196085</td>\n",
       "      <td>1400033543</td>\n",
       "      <td>5.713003</td>\n",
       "    </tr>\n",
       "    <tr>\n",
       "      <th>54167</th>\n",
       "      <td>196085</td>\n",
       "      <td>1573225126</td>\n",
       "      <td>5.712014</td>\n",
       "    </tr>\n",
       "    <tr>\n",
       "      <th>54168</th>\n",
       "      <td>196085</td>\n",
       "      <td>042516876X</td>\n",
       "      <td>5.711779</td>\n",
       "    </tr>\n",
       "    <tr>\n",
       "      <th>54169</th>\n",
       "      <td>196085</td>\n",
       "      <td>0061032425</td>\n",
       "      <td>5.701144</td>\n",
       "    </tr>\n",
       "  </tbody>\n",
       "</table>\n",
       "<p>54170 rows × 3 columns</p>\n",
       "</div>"
      ],
      "text/plain": [
       "       user_id     item_id     score\n",
       "0       232052  039480001X  9.606973\n",
       "1       232052  0553148001  9.571980\n",
       "2       232052  0064401871  9.524368\n",
       "3       232052  0060256672  9.495006\n",
       "4       232052  0140434003  9.466053\n",
       "...        ...         ...       ...\n",
       "54165   196085  0061054143  5.719382\n",
       "54166   196085  1400033543  5.713003\n",
       "54167   196085  1573225126  5.712014\n",
       "54168   196085  042516876X  5.711779\n",
       "54169   196085  0061032425  5.701144\n",
       "\n",
       "[54170 rows x 3 columns]"
      ]
     },
     "execution_count": 24,
     "metadata": {},
     "output_type": "execute_result"
    }
   ],
   "source": [
    "pd.read_csv('recommendations_finetuned_PMF.csv')"
   ]
  },
  {
   "cell_type": "code",
   "execution_count": 25,
   "id": "a18257a5-4b42-443e-a6c0-cdb061991368",
   "metadata": {},
   "outputs": [
    {
     "name": "stdout",
     "output_type": "stream",
     "text": [
      "Random model is selected:\n"
     ]
    }
   ],
   "source": [
    "import random as rd\n",
    "\n",
    "def get_top_n_random(n=10):\n",
    "    print(\"Random model is selected:\")\n",
    "    top_n = defaultdict(list)\n",
    "\n",
    "    # Get list of internal item IDs\n",
    "    all_iids = list(rs.train_set.iid_map.values())\n",
    "\n",
    "    for uid in rs.train_set.uid_map.values():\n",
    "        user_id = list(rs.train_set.user_ids)[uid]\n",
    "\n",
    "        # Get n unique random items\n",
    "        random_items = rd.sample(all_iids, n)\n",
    "\n",
    "        for iid in random_items:\n",
    "            item_id = list(rs.train_set.item_ids)[iid]\n",
    "            top_n[user_id].append((item_id, 1.0))\n",
    "\n",
    "    return top_n\n",
    "n=get_top_n_random(n=10)"
   ]
  },
  {
   "cell_type": "code",
   "execution_count": 26,
   "id": "331329bb-00e1-48f5-ba01-a4687b0c25a8",
   "metadata": {},
   "outputs": [
    {
     "name": "stdout",
     "output_type": "stream",
     "text": [
      "Saved recommendations to recommendations_finetuned_random.csv\n"
     ]
    }
   ],
   "source": [
    "data=[]\n",
    "for user_id, items in n.items():\n",
    "    for item_id, score in items:\n",
    "        data.append([user_id, item_id, float(score)])\n",
    "    \n",
    "df = pd.DataFrame(data, columns=[\"user_id\", \"item_id\", \"score\"])\n",
    "# df.to_csv(\"recommendations_random.csv\", index=False)\n",
    "print(f\"Saved recommendations to recommendations_finetuned_random.csv\")"
   ]
  },
  {
   "cell_type": "code",
   "execution_count": 28,
   "id": "5680c01e-a7d2-403b-b95f-f946172bbd01",
   "metadata": {},
   "outputs": [
    {
     "data": {
      "text/html": [
       "<div>\n",
       "<style scoped>\n",
       "    .dataframe tbody tr th:only-of-type {\n",
       "        vertical-align: middle;\n",
       "    }\n",
       "\n",
       "    .dataframe tbody tr th {\n",
       "        vertical-align: top;\n",
       "    }\n",
       "\n",
       "    .dataframe thead th {\n",
       "        text-align: right;\n",
       "    }\n",
       "</style>\n",
       "<table border=\"1\" class=\"dataframe\">\n",
       "  <thead>\n",
       "    <tr style=\"text-align: right;\">\n",
       "      <th></th>\n",
       "      <th>user_id</th>\n",
       "      <th>item_id</th>\n",
       "      <th>score</th>\n",
       "    </tr>\n",
       "  </thead>\n",
       "  <tbody>\n",
       "    <tr>\n",
       "      <th>0</th>\n",
       "      <td>232052</td>\n",
       "      <td>0671640127</td>\n",
       "      <td>1.0</td>\n",
       "    </tr>\n",
       "    <tr>\n",
       "      <th>1</th>\n",
       "      <td>232052</td>\n",
       "      <td>0553274465</td>\n",
       "      <td>1.0</td>\n",
       "    </tr>\n",
       "    <tr>\n",
       "      <th>2</th>\n",
       "      <td>232052</td>\n",
       "      <td>0451147960</td>\n",
       "      <td>1.0</td>\n",
       "    </tr>\n",
       "    <tr>\n",
       "      <th>3</th>\n",
       "      <td>232052</td>\n",
       "      <td>0441135560</td>\n",
       "      <td>1.0</td>\n",
       "    </tr>\n",
       "    <tr>\n",
       "      <th>4</th>\n",
       "      <td>232052</td>\n",
       "      <td>0312924801</td>\n",
       "      <td>1.0</td>\n",
       "    </tr>\n",
       "    <tr>\n",
       "      <th>...</th>\n",
       "      <td>...</td>\n",
       "      <td>...</td>\n",
       "      <td>...</td>\n",
       "    </tr>\n",
       "    <tr>\n",
       "      <th>54165</th>\n",
       "      <td>196085</td>\n",
       "      <td>0449223604</td>\n",
       "      <td>1.0</td>\n",
       "    </tr>\n",
       "    <tr>\n",
       "      <th>54166</th>\n",
       "      <td>196085</td>\n",
       "      <td>0385425473</td>\n",
       "      <td>1.0</td>\n",
       "    </tr>\n",
       "    <tr>\n",
       "      <th>54167</th>\n",
       "      <td>196085</td>\n",
       "      <td>0425119653</td>\n",
       "      <td>1.0</td>\n",
       "    </tr>\n",
       "    <tr>\n",
       "      <th>54168</th>\n",
       "      <td>196085</td>\n",
       "      <td>0312982518</td>\n",
       "      <td>1.0</td>\n",
       "    </tr>\n",
       "    <tr>\n",
       "      <th>54169</th>\n",
       "      <td>196085</td>\n",
       "      <td>0671024256</td>\n",
       "      <td>1.0</td>\n",
       "    </tr>\n",
       "  </tbody>\n",
       "</table>\n",
       "<p>54170 rows × 3 columns</p>\n",
       "</div>"
      ],
      "text/plain": [
       "       user_id     item_id  score\n",
       "0       232052  0671640127    1.0\n",
       "1       232052  0553274465    1.0\n",
       "2       232052  0451147960    1.0\n",
       "3       232052  0441135560    1.0\n",
       "4       232052  0312924801    1.0\n",
       "...        ...         ...    ...\n",
       "54165   196085  0449223604    1.0\n",
       "54166   196085  0385425473    1.0\n",
       "54167   196085  0425119653    1.0\n",
       "54168   196085  0312982518    1.0\n",
       "54169   196085  0671024256    1.0\n",
       "\n",
       "[54170 rows x 3 columns]"
      ]
     },
     "execution_count": 28,
     "metadata": {},
     "output_type": "execute_result"
    }
   ],
   "source": [
    "pd.read_csv('recommendations_finetuned_random.csv')"
   ]
  },
  {
   "cell_type": "code",
   "execution_count": null,
   "id": "3372c1e2-0904-482b-b4d2-dc2425e846af",
   "metadata": {},
   "outputs": [],
   "source": []
  }
 ],
 "metadata": {
  "kernelspec": {
   "display_name": "Python 3 (ipykernel)",
   "language": "python",
   "name": "python3"
  },
  "language_info": {
   "codemirror_mode": {
    "name": "ipython",
    "version": 3
   },
   "file_extension": ".py",
   "mimetype": "text/x-python",
   "name": "python",
   "nbconvert_exporter": "python",
   "pygments_lexer": "ipython3",
   "version": "3.10.12"
  }
 },
 "nbformat": 4,
 "nbformat_minor": 5
}
